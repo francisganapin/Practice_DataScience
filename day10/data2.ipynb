{
 "cells": [
  {
   "cell_type": "code",
   "execution_count": 2,
   "metadata": {},
   "outputs": [],
   "source": [
    "import pandas as pd"
   ]
  },
  {
   "cell_type": "code",
   "execution_count": 5,
   "metadata": {},
   "outputs": [
    {
     "name": "stderr",
     "output_type": "stream",
     "text": [
      "C:\\Users\\francis\\AppData\\Local\\Temp\\ipykernel_31960\\3350307606.py:1: DtypeWarning: Columns (7) have mixed types. Specify dtype option on import or set low_memory=False.\n",
      "  train = pd.read_csv('train.csv',parse_dates=['Date'])\n"
     ]
    }
   ],
   "source": [
    "train = pd.read_csv('train.csv',parse_dates=['Date'])\n",
    "store = pd.read_csv('store.csv')"
   ]
  },
  {
   "cell_type": "code",
   "execution_count": 6,
   "metadata": {},
   "outputs": [],
   "source": [
    "df = pd.merge(train,store,on='Store')"
   ]
  },
  {
   "cell_type": "code",
   "execution_count": 7,
   "metadata": {},
   "outputs": [],
   "source": [
    "df = df[df['Open'] == 1]"
   ]
  },
  {
   "cell_type": "code",
   "execution_count": 8,
   "metadata": {},
   "outputs": [],
   "source": [
    "df = df[df['Sales'] > 0]"
   ]
  },
  {
   "cell_type": "code",
   "execution_count": 9,
   "metadata": {},
   "outputs": [
    {
     "name": "stdout",
     "output_type": "stream",
     "text": [
      "         Store  DayOfWeek       Date  Sales  Customers  Open  Promo  \\\n",
      "0            1          5 2015-07-31   5263        555     1      1   \n",
      "1            1          4 2015-07-30   5020        546     1      1   \n",
      "2            1          3 2015-07-29   4782        523     1      1   \n",
      "3            1          2 2015-07-28   5011        560     1      1   \n",
      "4            1          1 2015-07-27   6102        612     1      1   \n",
      "...        ...        ...        ...    ...        ...   ...    ...   \n",
      "1017202   1115          1 2013-01-07   6905        471     1      1   \n",
      "1017204   1115          6 2013-01-05   4771        339     1      0   \n",
      "1017205   1115          5 2013-01-04   4540        326     1      0   \n",
      "1017206   1115          4 2013-01-03   4297        300     1      0   \n",
      "1017207   1115          3 2013-01-02   3697        305     1      0   \n",
      "\n",
      "        StateHoliday  SchoolHoliday StoreType Assortment  CompetitionDistance  \\\n",
      "0                  0              1         c          a               1270.0   \n",
      "1                  0              1         c          a               1270.0   \n",
      "2                  0              1         c          a               1270.0   \n",
      "3                  0              1         c          a               1270.0   \n",
      "4                  0              1         c          a               1270.0   \n",
      "...              ...            ...       ...        ...                  ...   \n",
      "1017202            0              1         d          c               5350.0   \n",
      "1017204            0              1         d          c               5350.0   \n",
      "1017205            0              1         d          c               5350.0   \n",
      "1017206            0              1         d          c               5350.0   \n",
      "1017207            0              1         d          c               5350.0   \n",
      "\n",
      "         CompetitionOpenSinceMonth  CompetitionOpenSinceYear  Promo2  \\\n",
      "0                              9.0                    2008.0       0   \n",
      "1                              9.0                    2008.0       0   \n",
      "2                              9.0                    2008.0       0   \n",
      "3                              9.0                    2008.0       0   \n",
      "4                              9.0                    2008.0       0   \n",
      "...                            ...                       ...     ...   \n",
      "1017202                        NaN                       NaN       1   \n",
      "1017204                        NaN                       NaN       1   \n",
      "1017205                        NaN                       NaN       1   \n",
      "1017206                        NaN                       NaN       1   \n",
      "1017207                        NaN                       NaN       1   \n",
      "\n",
      "         Promo2SinceWeek  Promo2SinceYear     PromoInterval  \n",
      "0                    NaN              NaN               NaN  \n",
      "1                    NaN              NaN               NaN  \n",
      "2                    NaN              NaN               NaN  \n",
      "3                    NaN              NaN               NaN  \n",
      "4                    NaN              NaN               NaN  \n",
      "...                  ...              ...               ...  \n",
      "1017202             22.0           2012.0  Mar,Jun,Sept,Dec  \n",
      "1017204             22.0           2012.0  Mar,Jun,Sept,Dec  \n",
      "1017205             22.0           2012.0  Mar,Jun,Sept,Dec  \n",
      "1017206             22.0           2012.0  Mar,Jun,Sept,Dec  \n",
      "1017207             22.0           2012.0  Mar,Jun,Sept,Dec  \n",
      "\n",
      "[844338 rows x 18 columns]\n"
     ]
    }
   ],
   "source": [
    "print(df)"
   ]
  },
  {
   "cell_type": "code",
   "execution_count": 10,
   "metadata": {},
   "outputs": [],
   "source": [
    "df['Year'] = df['Date'].dt.year\n",
    "df['Month'] = df['Date'].dt.month\n",
    "df['Day'] = df['Date'].dt.day\n",
    "df['DayOfWeek'] = df['Date'].dt.isocalendar().week\n",
    "df['DayOfWeek'] = df['Date'].dt.dayofweek"
   ]
  },
  {
   "cell_type": "code",
   "execution_count": 11,
   "metadata": {},
   "outputs": [],
   "source": [
    "df['StateHoliday'] = df['StateHoliday'].astype(str)\n",
    "df = pd.get_dummies(df,columns=['StateHoliday','StoreType','Assortment'],drop_first=True)"
   ]
  },
  {
   "cell_type": "code",
   "execution_count": null,
   "metadata": {},
   "outputs": [],
   "source": [
    "from sklearn.model_selection import train_test_split\n",
    "\n",
    "features = ['Store','Promo','SchoolHoliday','Month','Day','DayOfWeek','CompetitionDistance']"
   ]
  }
 ],
 "metadata": {
  "kernelspec": {
   "display_name": "base",
   "language": "python",
   "name": "python3"
  },
  "language_info": {
   "codemirror_mode": {
    "name": "ipython",
    "version": 3
   },
   "file_extension": ".py",
   "mimetype": "text/x-python",
   "name": "python",
   "nbconvert_exporter": "python",
   "pygments_lexer": "ipython3",
   "version": "3.11.7"
  }
 },
 "nbformat": 4,
 "nbformat_minor": 2
}
