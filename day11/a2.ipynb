{
 "cells": [
  {
   "cell_type": "code",
   "execution_count": 1,
   "metadata": {},
   "outputs": [],
   "source": [
    "import pandas as pd\n",
    "import numpy as np"
   ]
  },
  {
   "cell_type": "code",
   "execution_count": 2,
   "metadata": {},
   "outputs": [],
   "source": [
    "np.random.seed(42)\n",
    "n_row = 100"
   ]
  },
  {
   "cell_type": "code",
   "execution_count": 6,
   "metadata": {},
   "outputs": [],
   "source": [
    "df = pd.DataFrame({\n",
    "    'transaction_id': np.arange(1, n_row + 1),\n",
    "    'customer_id': np.random.randint(1000, 1020, n_row),\n",
    "    'date': pd.date_range('2024-06-01', periods=n_row, freq='D'),\n",
    "    'amount': np.round(np.random.exponential(scale=75, size=n_row), 2),\n",
    "    'payment_method': np.random.choice(['credit_card', 'debit_card', 'cash', 'paypal','gcash'], n_row),\n",
    "    'store': np.random.choice(['A', 'B', 'C'], n_row)\n",
    "})\n"
   ]
  },
  {
   "cell_type": "code",
   "execution_count": 7,
   "metadata": {},
   "outputs": [
    {
     "data": {
      "text/html": [
       "<div>\n",
       "<style scoped>\n",
       "    .dataframe tbody tr th:only-of-type {\n",
       "        vertical-align: middle;\n",
       "    }\n",
       "\n",
       "    .dataframe tbody tr th {\n",
       "        vertical-align: top;\n",
       "    }\n",
       "\n",
       "    .dataframe thead th {\n",
       "        text-align: right;\n",
       "    }\n",
       "</style>\n",
       "<table border=\"1\" class=\"dataframe\">\n",
       "  <thead>\n",
       "    <tr style=\"text-align: right;\">\n",
       "      <th></th>\n",
       "      <th>transaction_id</th>\n",
       "      <th>customer_id</th>\n",
       "      <th>date</th>\n",
       "      <th>amount</th>\n",
       "      <th>payment_method</th>\n",
       "      <th>store</th>\n",
       "    </tr>\n",
       "  </thead>\n",
       "  <tbody>\n",
       "    <tr>\n",
       "      <th>0</th>\n",
       "      <td>1</td>\n",
       "      <td>1017</td>\n",
       "      <td>2024-06-01</td>\n",
       "      <td>112.35</td>\n",
       "      <td>paypal</td>\n",
       "      <td>C</td>\n",
       "    </tr>\n",
       "    <tr>\n",
       "      <th>1</th>\n",
       "      <td>2</td>\n",
       "      <td>1009</td>\n",
       "      <td>2024-06-02</td>\n",
       "      <td>31.26</td>\n",
       "      <td>paypal</td>\n",
       "      <td>B</td>\n",
       "    </tr>\n",
       "    <tr>\n",
       "      <th>2</th>\n",
       "      <td>3</td>\n",
       "      <td>1018</td>\n",
       "      <td>2024-06-03</td>\n",
       "      <td>200.26</td>\n",
       "      <td>debit_card</td>\n",
       "      <td>A</td>\n",
       "    </tr>\n",
       "    <tr>\n",
       "      <th>3</th>\n",
       "      <td>4</td>\n",
       "      <td>1016</td>\n",
       "      <td>2024-06-04</td>\n",
       "      <td>146.61</td>\n",
       "      <td>debit_card</td>\n",
       "      <td>B</td>\n",
       "    </tr>\n",
       "    <tr>\n",
       "      <th>4</th>\n",
       "      <td>5</td>\n",
       "      <td>1018</td>\n",
       "      <td>2024-06-05</td>\n",
       "      <td>42.03</td>\n",
       "      <td>paypal</td>\n",
       "      <td>A</td>\n",
       "    </tr>\n",
       "  </tbody>\n",
       "</table>\n",
       "</div>"
      ],
      "text/plain": [
       "   transaction_id  customer_id       date  amount payment_method store\n",
       "0               1         1017 2024-06-01  112.35         paypal     C\n",
       "1               2         1009 2024-06-02   31.26         paypal     B\n",
       "2               3         1018 2024-06-03  200.26     debit_card     A\n",
       "3               4         1016 2024-06-04  146.61     debit_card     B\n",
       "4               5         1018 2024-06-05   42.03         paypal     A"
      ]
     },
     "execution_count": 7,
     "metadata": {},
     "output_type": "execute_result"
    }
   ],
   "source": [
    "df.head()"
   ]
  },
  {
   "cell_type": "code",
   "execution_count": 8,
   "metadata": {},
   "outputs": [
    {
     "name": "stdout",
     "output_type": "stream",
     "text": [
      "<class 'pandas.core.frame.DataFrame'>\n",
      "RangeIndex: 100 entries, 0 to 99\n",
      "Data columns (total 6 columns):\n",
      " #   Column          Non-Null Count  Dtype         \n",
      "---  ------          --------------  -----         \n",
      " 0   transaction_id  100 non-null    int32         \n",
      " 1   customer_id     100 non-null    int32         \n",
      " 2   date            100 non-null    datetime64[ns]\n",
      " 3   amount          100 non-null    float64       \n",
      " 4   payment_method  100 non-null    object        \n",
      " 5   store           100 non-null    object        \n",
      "dtypes: datetime64[ns](1), float64(1), int32(2), object(2)\n",
      "memory usage: 4.0+ KB\n",
      "None\n",
      "       transaction_id  customer_id                 date     amount\n",
      "count      100.000000   100.000000                  100  100.00000\n",
      "mean        50.500000  1009.010000  2024-07-20 12:00:00   86.11040\n",
      "min          1.000000  1000.000000  2024-06-01 00:00:00    0.82000\n",
      "25%         25.750000  1003.000000  2024-06-25 18:00:00   25.11500\n",
      "50%         50.500000  1009.000000  2024-07-20 12:00:00   60.17000\n",
      "75%         75.250000  1015.000000  2024-08-14 06:00:00  119.62500\n",
      "max        100.000000  1019.000000  2024-09-08 00:00:00  371.76000\n",
      "std         29.011492     6.212557                  NaN   83.04962\n",
      "payment_method\n",
      "gcash          24\n",
      "debit_card     22\n",
      "credit_card    22\n",
      "cash           18\n",
      "paypal         14\n",
      "Name: count, dtype: int64\n"
     ]
    }
   ],
   "source": [
    "print(df.info())\n",
    "print(df.describe())\n",
    "print(df['payment_method'].value_counts())"
   ]
  },
  {
   "cell_type": "code",
   "execution_count": 9,
   "metadata": {},
   "outputs": [],
   "source": [
    "df['weekdays'] = df['date'].dt.day_name()"
   ]
  },
  {
   "cell_type": "code",
   "execution_count": 10,
   "metadata": {},
   "outputs": [],
   "source": [
    "df['high_value'] = df['amount'] > 100"
   ]
  },
  {
   "cell_type": "code",
   "execution_count": 11,
   "metadata": {},
   "outputs": [
    {
     "name": "stdout",
     "output_type": "stream",
     "text": [
      "    transaction_id  customer_id       date  amount payment_method store  \\\n",
      "0                1         1017 2024-06-01  112.35         paypal     C   \n",
      "1                2         1009 2024-06-02   31.26         paypal     B   \n",
      "2                3         1018 2024-06-03  200.26     debit_card     A   \n",
      "3                4         1016 2024-06-04  146.61     debit_card     B   \n",
      "4                5         1018 2024-06-05   42.03         paypal     A   \n",
      "..             ...          ...        ...     ...            ...   ...   \n",
      "95              96         1002 2024-09-04  225.30     debit_card     C   \n",
      "96              97         1015 2024-09-05  165.73     debit_card     C   \n",
      "97              98         1003 2024-09-06   45.61     debit_card     C   \n",
      "98              99         1017 2024-09-07   72.59           cash     C   \n",
      "99             100         1016 2024-09-08   24.37           cash     B   \n",
      "\n",
      "     weekdays  high_value  \n",
      "0    Saturday        True  \n",
      "1      Sunday       False  \n",
      "2      Monday        True  \n",
      "3     Tuesday        True  \n",
      "4   Wednesday       False  \n",
      "..        ...         ...  \n",
      "95  Wednesday        True  \n",
      "96   Thursday        True  \n",
      "97     Friday       False  \n",
      "98   Saturday       False  \n",
      "99     Sunday       False  \n",
      "\n",
      "[100 rows x 8 columns]\n"
     ]
    }
   ],
   "source": [
    "print(df)"
   ]
  },
  {
   "cell_type": "code",
   "execution_count": 12,
   "metadata": {},
   "outputs": [
    {
     "name": "stdout",
     "output_type": "stream",
     "text": [
      "             count     sum        mean\n",
      "customer_id                           \n",
      "1000             9  731.13   81.236667\n",
      "1002             6  709.51  118.251667\n",
      "1018             7  666.18   95.168571\n",
      "1004            10  654.73   65.473000\n",
      "1008             3  650.68  216.893333\n"
     ]
    }
   ],
   "source": [
    "customer_summary = df.groupby('customer_id')['amount'].agg(['count','sum','mean']).sort_values('sum',ascending=False)\n",
    "print(customer_summary.head())"
   ]
  },
  {
   "cell_type": "code",
   "execution_count": 13,
   "metadata": {},
   "outputs": [],
   "source": [
    "pivot  = df.pivot_table(index='store',columns='payment_method',values='amount',aggfunc='sum',fill_value=0)"
   ]
  },
  {
   "cell_type": "code",
   "execution_count": 14,
   "metadata": {},
   "outputs": [
    {
     "name": "stdout",
     "output_type": "stream",
     "text": [
      "payment_method     cash  credit_card  debit_card    gcash  paypal\n",
      "store                                                            \n",
      "A                384.50       306.75      578.73   729.93  458.44\n",
      "B               1014.19       741.76      606.82  1090.25  361.38\n",
      "C                177.89       698.47      825.37   384.88  251.68\n"
     ]
    }
   ],
   "source": [
    "print(pivot)"
   ]
  },
  {
   "cell_type": "code",
   "execution_count": 15,
   "metadata": {},
   "outputs": [
    {
     "name": "stdout",
     "output_type": "stream",
     "text": [
      "    transaction_id  customer_id       date  amount payment_method store  \\\n",
      "82              83         1008 2024-08-22  371.76    credit_card     C   \n",
      "48              49         1003 2024-07-19  323.66           cash     B   \n",
      "53              54         1019 2024-07-24  320.16          gcash     A   \n",
      "78              79         1007 2024-08-18  262.69           cash     A   \n",
      "85              86         1017 2024-08-25  261.27           cash     B   \n",
      "\n",
      "     weekdays  high_value  \n",
      "82   Thursday        True  \n",
      "48     Friday        True  \n",
      "53  Wednesday        True  \n",
      "78     Sunday        True  \n",
      "85     Sunday        True  \n"
     ]
    }
   ],
   "source": [
    "print(df.sort_values('amount',ascending=False).head(5))"
   ]
  },
  {
   "cell_type": "code",
   "execution_count": 16,
   "metadata": {},
   "outputs": [
    {
     "name": "stdout",
     "output_type": "stream",
     "text": [
      "week\n",
      "22    143.61\n",
      "23    781.27\n",
      "24    597.10\n",
      "25    669.87\n",
      "26    486.02\n",
      "27    364.85\n",
      "28    302.10\n",
      "29    627.82\n",
      "30    926.01\n",
      "31    388.34\n",
      "32    515.85\n",
      "33    742.99\n",
      "34    925.21\n",
      "35    578.17\n",
      "36    561.83\n",
      "Name: amount, dtype: float64\n"
     ]
    }
   ],
   "source": [
    "df['week'] = df['date'].dt.isocalendar().week\n",
    "weakly_sales = df.groupby('week')['amount'].sum()\n",
    "print(weakly_sales)"
   ]
  },
  {
   "cell_type": "code",
   "execution_count": 17,
   "metadata": {},
   "outputs": [],
   "source": [
    "customer_summary.to_csv('customer_summary.csv')"
   ]
  },
  {
   "cell_type": "code",
   "execution_count": 18,
   "metadata": {},
   "outputs": [],
   "source": [
    "df.to_csv('df1.csv')"
   ]
  },
  {
   "cell_type": "code",
   "execution_count": 19,
   "metadata": {},
   "outputs": [],
   "source": [
    "daily_sales = df.groupby('date')['amount'].sum().reset_index()"
   ]
  },
  {
   "cell_type": "code",
   "execution_count": 20,
   "metadata": {},
   "outputs": [],
   "source": [
    "daily_sales.columns = ['Date','Total_Sales']"
   ]
  },
  {
   "cell_type": "code",
   "execution_count": 21,
   "metadata": {},
   "outputs": [
    {
     "name": "stdout",
     "output_type": "stream",
     "text": [
      "         Date  Total_Sales\n",
      "0  2024-06-01       112.35\n",
      "1  2024-06-02        31.26\n",
      "2  2024-06-03       200.26\n",
      "3  2024-06-04       146.61\n",
      "4  2024-06-05        42.03\n",
      "..        ...          ...\n",
      "95 2024-09-04       225.30\n",
      "96 2024-09-05       165.73\n",
      "97 2024-09-06        45.61\n",
      "98 2024-09-07        72.59\n",
      "99 2024-09-08        24.37\n",
      "\n",
      "[100 rows x 2 columns]\n"
     ]
    }
   ],
   "source": [
    "print(daily_sales)"
   ]
  },
  {
   "cell_type": "code",
   "execution_count": 27,
   "metadata": {},
   "outputs": [],
   "source": [
    "monday_sales = df[df['weekdays'] == 'Monday']['amount'].sum()"
   ]
  },
  {
   "cell_type": "code",
   "execution_count": 26,
   "metadata": {},
   "outputs": [
    {
     "name": "stdout",
     "output_type": "stream",
     "text": [
      "Total Sales on Monday: 1380.3199999999997\n"
     ]
    }
   ],
   "source": [
    "print('Total Sales on Monday:',monday_sales)"
   ]
  },
  {
   "cell_type": "code",
   "execution_count": 28,
   "metadata": {},
   "outputs": [
    {
     "name": "stdout",
     "output_type": "stream",
     "text": [
      "    weekdays   amount\n",
      "0     Friday  1380.32\n",
      "1     Monday   767.24\n",
      "2   Saturday   744.24\n",
      "3     Sunday  1611.79\n",
      "4   Thursday  1456.60\n",
      "5    Tuesday  1102.84\n",
      "6  Wednesday  1548.01\n"
     ]
    }
   ],
   "source": [
    "weekday_sales = df.groupby('weekdays')['amount'].sum().reset_index()\n",
    "print(weekday_sales)"
   ]
  },
  {
   "cell_type": "code",
   "execution_count": 29,
   "metadata": {},
   "outputs": [
    {
     "name": "stdout",
     "output_type": "stream",
     "text": [
      "19\n"
     ]
    }
   ],
   "source": [
    "number_of_unique = df['customer_id'].nunique()\n",
    "print(number_of_unique)"
   ]
  },
  {
   "cell_type": "code",
   "execution_count": 30,
   "metadata": {},
   "outputs": [
    {
     "name": "stdout",
     "output_type": "stream",
     "text": [
      "customer_id\n",
      "1004    10\n",
      "1000     9\n",
      "1015     8\n",
      "1018     7\n",
      "1003     7\n",
      "1011     7\n",
      "1016     6\n",
      "1002     6\n",
      "1009     6\n",
      "1017     5\n",
      "1001     5\n",
      "1012     4\n",
      "1007     3\n",
      "1006     3\n",
      "1013     3\n",
      "1019     3\n",
      "1008     3\n",
      "1010     3\n",
      "1014     2\n",
      "Name: count, dtype: int64\n"
     ]
    }
   ],
   "source": [
    "customer_purchase_frequency = df['customer_id'].value_counts()\n",
    "print(customer_purchase_frequency)"
   ]
  },
  {
   "cell_type": "code",
   "execution_count": 31,
   "metadata": {},
   "outputs": [
    {
     "name": "stdout",
     "output_type": "stream",
     "text": [
      "customer_id\n",
      "1000    731.13\n",
      "1001    352.76\n",
      "1002    709.51\n",
      "1003    604.91\n",
      "1004    654.73\n",
      "1006    198.60\n",
      "1007    309.15\n",
      "1008    650.68\n",
      "1009    231.21\n",
      "1010    330.64\n",
      "1011    580.78\n",
      "1012    128.67\n",
      "1013    182.03\n",
      "1014    236.04\n",
      "1015    590.65\n",
      "1016    534.91\n",
      "1017    500.59\n",
      "1018    666.18\n",
      "1019    417.87\n",
      "Name: amount, dtype: float64\n"
     ]
    }
   ],
   "source": [
    "customer_lifetime_sale = df.groupby('customer_id')['amount'].sum()\n",
    "print(customer_lifetime_sale )"
   ]
  },
  {
   "cell_type": "code",
   "execution_count": 32,
   "metadata": {},
   "outputs": [
    {
     "data": {
      "text/plain": [
       "100"
      ]
     },
     "execution_count": 32,
     "metadata": {},
     "output_type": "execute_result"
    }
   ],
   "source": [
    "df['amount'].sum()\n",
    "\n",
    "df['amount'].mean()\n",
    "\n",
    "df.shape[0]"
   ]
  },
  {
   "cell_type": "code",
   "execution_count": 33,
   "metadata": {},
   "outputs": [
    {
     "name": "stdout",
     "output_type": "stream",
     "text": [
      "payment_method\n",
      "cash           1576.58\n",
      "credit_card    1746.98\n",
      "debit_card     2010.92\n",
      "gcash          2205.06\n",
      "paypal         1071.50\n",
      "Name: amount, dtype: float64\n"
     ]
    }
   ],
   "source": [
    "df['payment_method'].value_counts()\n",
    "\n",
    "payment_amount = df.groupby('payment_method')['amount'].sum()\n",
    "\n",
    "print(payment_amount)"
   ]
  },
  {
   "cell_type": "code",
   "execution_count": 34,
   "metadata": {},
   "outputs": [
    {
     "name": "stdout",
     "output_type": "stream",
     "text": [
      "store\n",
      "A     76.823437\n",
      "B    112.188235\n",
      "C     68.773235\n",
      "Name: amount, dtype: float64\n"
     ]
    }
   ],
   "source": [
    "sale_per_store = df.groupby('store')['amount'].mean()\n",
    "print(sale_per_store)"
   ]
  },
  {
   "cell_type": "code",
   "execution_count": 37,
   "metadata": {},
   "outputs": [],
   "source": [
    "val_tran = df[df['high_value'] == False].shape[0]"
   ]
  },
  {
   "cell_type": "code",
   "execution_count": 38,
   "metadata": {},
   "outputs": [
    {
     "name": "stdout",
     "output_type": "stream",
     "text": [
      "65\n"
     ]
    }
   ],
   "source": [
    "print(val_tran)"
   ]
  },
  {
   "cell_type": "code",
   "execution_count": 39,
   "metadata": {},
   "outputs": [
    {
     "data": {
      "text/plain": [
       "6271.83"
      ]
     },
     "execution_count": 39,
     "metadata": {},
     "output_type": "execute_result"
    }
   ],
   "source": [
    "df[df['high_value'] == True]['amount'].sum()"
   ]
  },
  {
   "cell_type": "code",
   "execution_count": 40,
   "metadata": {},
   "outputs": [],
   "source": [
    "import matplotlib.pyplot as plt"
   ]
  },
  {
   "cell_type": "code",
   "execution_count": 42,
   "metadata": {},
   "outputs": [
    {
     "data": {
      "image/png": "[encoded data removed]",
      "text/plain": [
       "<Figure size 640x480 with 1 Axes>"
      ]
     },
     "metadata": {},
     "output_type": "display_data"
    }
   ],
   "source": [
    "df.groupby('weekdays')['amount'].sum().reindex(\n",
    "    ['Monday','Tuesday','Wednesday','Thursday','Friday','Saturday','Sunday']\n",
    ").plot(kind='bar',title='Sales by Weekdays')\n",
    "plt.ylabel('Total Sales')\n",
    "plt.show()"
   ]
  },
  {
   "cell_type": "code",
   "execution_count": 43,
   "metadata": {},
   "outputs": [
    {
     "name": "stdout",
     "output_type": "stream",
     "text": [
      "Repeat Customer\n",
      "customer_id\n",
      "1004    10\n",
      "1000     9\n",
      "1015     8\n",
      "1018     7\n",
      "1003     7\n",
      "1011     7\n",
      "1016     6\n",
      "1002     6\n",
      "1009     6\n",
      "1017     5\n",
      "1001     5\n",
      "1012     4\n",
      "1007     3\n",
      "1006     3\n",
      "1013     3\n",
      "1019     3\n",
      "1008     3\n",
      "1010     3\n",
      "1014     2\n",
      "Name: count, dtype: int64\n"
     ]
    }
   ],
   "source": [
    "reapet_customer = df['customer_id'].value_counts()\n",
    "repeat_customers = reapet_customer[reapet_customer  > 1]\n",
    "print('Repeat Customer')\n",
    "print(repeat_customers)"
   ]
  },
  {
   "cell_type": "code",
   "execution_count": 44,
   "metadata": {},
   "outputs": [
    {
     "name": "stdout",
     "output_type": "stream",
     "text": [
      "Weekly Sales Growth (%):\n",
      "week\n",
      "22      0.000000\n",
      "23    444.022004\n",
      "24    -23.573157\n",
      "25     12.187238\n",
      "26    -27.445624\n",
      "27    -24.931073\n",
      "28    -17.198849\n",
      "29    107.818603\n",
      "30     47.496098\n",
      "31    -58.063088\n",
      "32     32.834629\n",
      "33     44.032180\n",
      "34     24.525229\n",
      "35    -37.509322\n",
      "36     -2.826158\n",
      "Name: amount, dtype: float64\n"
     ]
    }
   ],
   "source": [
    "weekly_sales = df.groupby('week')['amount'].sum()\n",
    "weekly_growth = weekly_sales.pct_change().fillna(0) * 100\n",
    "print('Weekly Sales Growth (%):')\n",
    "print(weekly_growth)"
   ]
  },
  {
   "cell_type": "code",
   "execution_count": 45,
   "metadata": {},
   "outputs": [
    {
     "name": "stdout",
     "output_type": "stream",
     "text": [
      "outlier Transachtion:\n",
      "         date  amount   z_score\n",
      "48 2024-07-19  323.66  2.874743\n",
      "53 2024-07-24  320.16  2.832387\n",
      "78 2024-08-18  262.69  2.136905\n",
      "82 2024-08-22  371.76  3.456833\n",
      "85 2024-08-25  261.27  2.119721\n"
     ]
    }
   ],
   "source": [
    "from scipy.stats import zscore\n",
    "\n",
    "df['z_score'] = zscore(df['amount'])\n",
    "\n",
    "\n",
    "outliers = df[df['z_score'].abs() > 2]\n",
    "print(\"outlier Transachtion:\")\n",
    "print(outliers[['date','amount','z_score']])"
   ]
  }
 ],
 "metadata": {
  "kernelspec": {
   "display_name": "base",
   "language": "python",
   "name": "python3"
  },
  "language_info": {
   "codemirror_mode": {
    "name": "ipython",
    "version": 3
   },
   "file_extension": ".py",
   "mimetype": "text/x-python",
   "name": "python",
   "nbconvert_exporter": "python",
   "pygments_lexer": "ipython3",
   "version": "3.11.7"
  }
 },
 "nbformat": 4,
 "nbformat_minor": 2
}
