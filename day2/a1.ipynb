{
 "cells": [
  {
   "cell_type": "code",
   "execution_count": 23,
   "metadata": {},
   "outputs": [],
   "source": [
    "import pandas as pd\n",
    "\n",
    "data = {\n",
    "    'Date': pd.date_range(start='2025-06-01', periods=500, freq='D').astype(str),\n",
    "    'Product': ['Laptop', 'Smartphone', 'Tablet'] * (500 // 3) + ['Laptop'] * (500 % 3),\n",
    "    'Units_Sold': [5, 10, 3, 7, 8, 2, 6, 12, 4, 9] * 50,\n",
    "    'Unit_Price': [1000, 700, 400, 1000, 700, 400, 1000, 700, 400, 1000] * 50\n",
    "}\n",
    "\n"
   ]
  },
  {
   "cell_type": "code",
   "execution_count": 24,
   "metadata": {},
   "outputs": [
    {
     "name": "stdout",
     "output_type": "stream",
     "text": [
      "           Date     Product  Units_Sold  Unit_Price\n",
      "0    2025-06-01      Laptop           5        1000\n",
      "1    2025-06-02  Smartphone          10         700\n",
      "2    2025-06-03      Tablet           3         400\n",
      "3    2025-06-04      Laptop           7        1000\n",
      "4    2025-06-05  Smartphone           8         700\n",
      "..          ...         ...         ...         ...\n",
      "495  2026-10-09      Laptop           2         400\n",
      "496  2026-10-10  Smartphone           6        1000\n",
      "497  2026-10-11      Tablet          12         700\n",
      "498  2026-10-12      Laptop           4         400\n",
      "499  2026-10-13      Laptop           9        1000\n",
      "\n",
      "[500 rows x 4 columns]\n"
     ]
    }
   ],
   "source": [
    "df = pd.DataFrame(data)\n",
    "print(df)"
   ]
  },
  {
   "cell_type": "code",
   "execution_count": 25,
   "metadata": {},
   "outputs": [],
   "source": [
    "revenue_sale_all = df['Units_Sold'] * df['Unit_Price']"
   ]
  },
  {
   "cell_type": "code",
   "execution_count": 26,
   "metadata": {},
   "outputs": [
    {
     "name": "stdout",
     "output_type": "stream",
     "text": [
      "Total revenue sales was Pesos 2580000\n"
     ]
    }
   ],
   "source": [
    "#\n",
    "print(f'Total revenue sales was Pesos {sum(revenue_sale_all)}')"
   ]
  },
  {
   "cell_type": "code",
   "execution_count": 27,
   "metadata": {},
   "outputs": [
    {
     "name": "stdout",
     "output_type": "stream",
     "text": [
      "total solve per product was\n"
     ]
    },
    {
     "data": {
      "text/html": [
       "<div>\n",
       "<style scoped>\n",
       "    .dataframe tbody tr th:only-of-type {\n",
       "        vertical-align: middle;\n",
       "    }\n",
       "\n",
       "    .dataframe tbody tr th {\n",
       "        vertical-align: top;\n",
       "    }\n",
       "\n",
       "    .dataframe thead th {\n",
       "        text-align: right;\n",
       "    }\n",
       "</style>\n",
       "<table border=\"1\" class=\"dataframe\">\n",
       "  <thead>\n",
       "    <tr style=\"text-align: right;\">\n",
       "      <th></th>\n",
       "      <th>Product</th>\n",
       "      <th>Units_Sold</th>\n",
       "    </tr>\n",
       "  </thead>\n",
       "  <tbody>\n",
       "    <tr>\n",
       "      <th>0</th>\n",
       "      <td>Laptop</td>\n",
       "      <td>1101</td>\n",
       "    </tr>\n",
       "    <tr>\n",
       "      <th>1</th>\n",
       "      <td>Smartphone</td>\n",
       "      <td>1104</td>\n",
       "    </tr>\n",
       "    <tr>\n",
       "      <th>2</th>\n",
       "      <td>Tablet</td>\n",
       "      <td>1095</td>\n",
       "    </tr>\n",
       "  </tbody>\n",
       "</table>\n",
       "</div>"
      ],
      "text/plain": [
       "      Product  Units_Sold\n",
       "0      Laptop        1101\n",
       "1  Smartphone        1104\n",
       "2      Tablet        1095"
      ]
     },
     "execution_count": 27,
     "metadata": {},
     "output_type": "execute_result"
    }
   ],
   "source": [
    "total_solve_per_product = df.groupby('Product',as_index=False)['Units_Sold'].sum()\n",
    "print('total solve per product was')\n",
    "total_solve_per_product"
   ]
  },
  {
   "cell_type": "code",
   "execution_count": 28,
   "metadata": {},
   "outputs": [],
   "source": [
    "#import matplotlib as plt for plot\n",
    "import matplotlib.pyplot as plt\n",
    "\n"
   ]
  },
  {
   "cell_type": "code",
   "execution_count": 29,
   "metadata": {},
   "outputs": [
    {
     "data": {
      "image/png": "[encoded data removed]",
      "text/plain": [
       "<Figure size 640x480 with 1 Axes>"
      ]
     },
     "metadata": {},
     "output_type": "display_data"
    }
   ],
   "source": [
    "plt.bar(total_solve_per_product['Product'], total_solve_per_product['Units_Sold'])\n",
    "plt.xlabel('Product')\n",
    "plt.ylabel('Unit Sold')\n",
    "plt.title(\"Total Units Sold per\")\n",
    "\n",
    "\n",
    "#show numbers at top\n",
    "for index,value in enumerate(total_solve_per_product['Units_Sold']):\n",
    "    plt.text(index,value + 1,str(value),ha='center',fontsize=12)\n",
    "\n",
    "plt.show()"
   ]
  },
  {
   "cell_type": "code",
   "execution_count": 30,
   "metadata": {},
   "outputs": [
    {
     "name": "stdout",
     "output_type": "stream",
     "text": [
      "           Date     Product  Units_Sold  Unit_Price\n",
      "0    2025-06-01      Laptop           5        1000\n",
      "1    2025-06-02  Smartphone          10         700\n",
      "2    2025-06-03      Tablet           3         400\n",
      "3    2025-06-04      Laptop           7        1000\n",
      "4    2025-06-05  Smartphone           8         700\n",
      "..          ...         ...         ...         ...\n",
      "495  2026-10-09      Laptop           2         400\n",
      "496  2026-10-10  Smartphone           6        1000\n",
      "497  2026-10-11      Tablet          12         700\n",
      "498  2026-10-12      Laptop           4         400\n",
      "499  2026-10-13      Laptop           9        1000\n",
      "\n",
      "[500 rows x 4 columns]\n"
     ]
    }
   ],
   "source": [
    "print(df)"
   ]
  },
  {
   "cell_type": "code",
   "execution_count": 31,
   "metadata": {},
   "outputs": [],
   "source": [
    "revenue_per_day = []\n",
    "\n",
    "for i in range(500):\n",
    "    sold = df['Units_Sold'][i]\n",
    "    income = df['Unit_Price'][i]\n",
    "    revenue_per_day.append(sold * income)"
   ]
  },
  {
   "cell_type": "code",
   "execution_count": 32,
   "metadata": {},
   "outputs": [
    {
     "name": "stdout",
     "output_type": "stream",
     "text": [
      "           Date     Product  Units_Sold  Unit_Price  Daily_Revenue\n",
      "0    2025-06-01      Laptop           5        1000           5000\n",
      "1    2025-06-02  Smartphone          10         700           7000\n",
      "2    2025-06-03      Tablet           3         400           1200\n",
      "3    2025-06-04      Laptop           7        1000           7000\n",
      "4    2025-06-05  Smartphone           8         700           5600\n",
      "..          ...         ...         ...         ...            ...\n",
      "495  2026-10-09      Laptop           2         400            800\n",
      "496  2026-10-10  Smartphone           6        1000           6000\n",
      "497  2026-10-11      Tablet          12         700           8400\n",
      "498  2026-10-12      Laptop           4         400           1600\n",
      "499  2026-10-13      Laptop           9        1000           9000\n",
      "\n",
      "[500 rows x 5 columns]\n"
     ]
    }
   ],
   "source": [
    "# get Daily add new Data to dataframe which is Daily_Revenue\n",
    "df['Daily_Revenue'] = revenue_per_day\n",
    "print(df)"
   ]
  },
  {
   "cell_type": "code",
   "execution_count": 33,
   "metadata": {},
   "outputs": [
    {
     "name": "stdout",
     "output_type": "stream",
     "text": [
      "Daily average revenue total Pesos 5160.0\n"
     ]
    }
   ],
   "source": [
    "average_daily_revenue = df['Daily_Revenue'].mean()\n",
    "print(f'Daily average revenue total Pesos {average_daily_revenue}')"
   ]
  },
  {
   "cell_type": "code",
   "execution_count": 34,
   "metadata": {},
   "outputs": [],
   "source": [
    "#get product revenue\n",
    "product_has_highest_revenue = df.groupby('Product',as_index=False)['Daily_Revenue'].sum()\n",
    "\n"
   ]
  },
  {
   "cell_type": "code",
   "execution_count": 35,
   "metadata": {},
   "outputs": [
    {
     "name": "stdout",
     "output_type": "stream",
     "text": [
      "product with highest revenue\n",
      "Product          Tablet\n",
      "Daily_Revenue    865200\n",
      "dtype: object\n"
     ]
    }
   ],
   "source": [
    "#get the product with highest revenue\n",
    "print(f\"product with highest revenue\")\n",
    "print(product_has_highest_revenue.max())"
   ]
  },
  {
   "cell_type": "code",
   "execution_count": 36,
   "metadata": {},
   "outputs": [],
   "source": [
    "df['Revenue_Change'] = df['Daily_Revenue'].diff()\n",
    "df['Revenue_Percent_Change'] = df['Daily_Revenue'].pct_change() * 100\n",
    "\n",
    "\n"
   ]
  },
  {
   "cell_type": "code",
   "execution_count": 37,
   "metadata": {},
   "outputs": [
    {
     "name": "stdout",
     "output_type": "stream",
     "text": [
      "           Date     Product  Units_Sold  Unit_Price  Daily_Revenue  \\\n",
      "0    2025-06-01      Laptop           5        1000           5000   \n",
      "1    2025-06-02  Smartphone          10         700           7000   \n",
      "2    2025-06-03      Tablet           3         400           1200   \n",
      "3    2025-06-04      Laptop           7        1000           7000   \n",
      "4    2025-06-05  Smartphone           8         700           5600   \n",
      "..          ...         ...         ...         ...            ...   \n",
      "495  2026-10-09      Laptop           2         400            800   \n",
      "496  2026-10-10  Smartphone           6        1000           6000   \n",
      "497  2026-10-11      Tablet          12         700           8400   \n",
      "498  2026-10-12      Laptop           4         400           1600   \n",
      "499  2026-10-13      Laptop           9        1000           9000   \n",
      "\n",
      "     Revenue_Change  Revenue_Percent_Change  \n",
      "0               NaN                     NaN  \n",
      "1            2000.0               40.000000  \n",
      "2           -5800.0              -82.857143  \n",
      "3            5800.0              483.333333  \n",
      "4           -1400.0              -20.000000  \n",
      "..              ...                     ...  \n",
      "495         -4800.0              -85.714286  \n",
      "496          5200.0              650.000000  \n",
      "497          2400.0               40.000000  \n",
      "498         -6800.0              -80.952381  \n",
      "499          7400.0              462.500000  \n",
      "\n",
      "[500 rows x 7 columns]\n"
     ]
    }
   ],
   "source": [
    "print(df)"
   ]
  },
  {
   "cell_type": "code",
   "execution_count": 38,
   "metadata": {},
   "outputs": [],
   "source": [
    "df['Rolling_Avg'] = df['Daily_Revenue'].rolling(window=7).mean()"
   ]
  },
  {
   "cell_type": "code",
   "execution_count": 39,
   "metadata": {},
   "outputs": [
    {
     "name": "stdout",
     "output_type": "stream",
     "text": [
      "           Date     Product  Units_Sold  Unit_Price  Daily_Revenue  \\\n",
      "0    2025-06-01      Laptop           5        1000           5000   \n",
      "1    2025-06-02  Smartphone          10         700           7000   \n",
      "2    2025-06-03      Tablet           3         400           1200   \n",
      "3    2025-06-04      Laptop           7        1000           7000   \n",
      "4    2025-06-05  Smartphone           8         700           5600   \n",
      "..          ...         ...         ...         ...            ...   \n",
      "495  2026-10-09      Laptop           2         400            800   \n",
      "496  2026-10-10  Smartphone           6        1000           6000   \n",
      "497  2026-10-11      Tablet          12         700           8400   \n",
      "498  2026-10-12      Laptop           4         400           1600   \n",
      "499  2026-10-13      Laptop           9        1000           9000   \n",
      "\n",
      "     Revenue_Change  Revenue_Percent_Change  Rolling_Avg  \n",
      "0               NaN                     NaN          NaN  \n",
      "1            2000.0               40.000000          NaN  \n",
      "2           -5800.0              -82.857143          NaN  \n",
      "3            5800.0              483.333333          NaN  \n",
      "4           -1400.0              -20.000000          NaN  \n",
      "..              ...                     ...          ...  \n",
      "495         -4800.0              -85.714286  5085.714286  \n",
      "496          5200.0              650.000000  4657.142857  \n",
      "497          2400.0               40.000000  5142.857143  \n",
      "498         -6800.0              -80.952381  4371.428571  \n",
      "499          7400.0              462.500000  5485.714286  \n",
      "\n",
      "[500 rows x 8 columns]\n"
     ]
    }
   ],
   "source": [
    "print(df)"
   ]
  },
  {
   "cell_type": "code",
   "execution_count": 40,
   "metadata": {},
   "outputs": [
    {
     "name": "stdout",
     "output_type": "stream",
     "text": [
      "           Date     Product  Units_Sold  Unit_Price  Daily_Revenue  \\\n",
      "0    2025-06-01      Laptop           5        1000           5000   \n",
      "1    2025-06-02  Smartphone          10         700           7000   \n",
      "2    2025-06-03      Tablet           3         400           1200   \n",
      "3    2025-06-04      Laptop           7        1000           7000   \n",
      "4    2025-06-05  Smartphone           8         700           5600   \n",
      "..          ...         ...         ...         ...            ...   \n",
      "495  2026-10-09      Laptop           2         400            800   \n",
      "496  2026-10-10  Smartphone           6        1000           6000   \n",
      "497  2026-10-11      Tablet          12         700           8400   \n",
      "498  2026-10-12      Laptop           4         400           1600   \n",
      "499  2026-10-13      Laptop           9        1000           9000   \n",
      "\n",
      "     Revenue_Change  Revenue_Percent_Change  Rolling_Avg  \n",
      "0               NaN                     NaN          NaN  \n",
      "1            2000.0               40.000000          NaN  \n",
      "2           -5800.0              -82.857143          NaN  \n",
      "3            5800.0              483.333333          NaN  \n",
      "4           -1400.0              -20.000000          NaN  \n",
      "..              ...                     ...          ...  \n",
      "495         -4800.0              -85.714286  5085.714286  \n",
      "496          5200.0              650.000000  4657.142857  \n",
      "497          2400.0               40.000000  5142.857143  \n",
      "498         -6800.0              -80.952381  4371.428571  \n",
      "499          7400.0              462.500000  5485.714286  \n",
      "\n",
      "[500 rows x 8 columns]\n"
     ]
    }
   ],
   "source": [
    "print(df)"
   ]
  },
  {
   "cell_type": "code",
   "execution_count": 41,
   "metadata": {},
   "outputs": [
    {
     "name": "stdout",
     "output_type": "stream",
     "text": [
      "Date                       object\n",
      "Product                    object\n",
      "Units_Sold                  int64\n",
      "Unit_Price                  int64\n",
      "Daily_Revenue               int64\n",
      "Revenue_Change            float64\n",
      "Revenue_Percent_Change    float64\n",
      "Rolling_Avg               float64\n",
      "dtype: object\n"
     ]
    }
   ],
   "source": [
    "print(df.dtypes)"
   ]
  },
  {
   "cell_type": "code",
   "execution_count": 42,
   "metadata": {},
   "outputs": [
    {
     "name": "stdout",
     "output_type": "stream",
     "text": [
      "Date                      datetime64[ns]\n",
      "Product                           object\n",
      "Units_Sold                         int64\n",
      "Unit_Price                         int64\n",
      "Daily_Revenue                      int64\n",
      "Revenue_Change                   float64\n",
      "Revenue_Percent_Change           float64\n",
      "Rolling_Avg                      float64\n",
      "dtype: object\n"
     ]
    }
   ],
   "source": [
    "#convert object into datetime \n",
    "df['Date'] = pd.to_datetime(df['Date'])\n",
    "print(df.dtypes)"
   ]
  },
  {
   "cell_type": "code",
   "execution_count": 43,
   "metadata": {},
   "outputs": [
    {
     "name": "stdout",
     "output_type": "stream",
     "text": [
      "         Week  Weekly_Revenue\n",
      "0  2025-05-26            5000\n",
      "1  2025-06-02           36000\n",
      "2  2025-06-09           36400\n",
      "3  2025-06-16           37800\n",
      "4  2025-06-23           30600\n",
      "..        ...             ...\n",
      "68 2026-09-14           32600\n",
      "69 2026-09-21           39200\n",
      "70 2026-09-28           36400\n",
      "71 2026-10-05           36000\n",
      "72 2026-10-12           10600\n",
      "\n",
      "[73 rows x 2 columns]\n"
     ]
    }
   ],
   "source": [
    "#get weekly revenue for or finance\n",
    "\n",
    "df['Week'] = df['Date'].dt.to_period('W').apply(lambda x: x.start_time)\n",
    "\n",
    "weekly = df.groupby('Week')['Daily_Revenue'].sum().reset_index()\n",
    "weekly.columns = ['Week','Weekly_Revenue']\n",
    "\n",
    "print(weekly)"
   ]
  },
  {
   "cell_type": "code",
   "execution_count": 44,
   "metadata": {},
   "outputs": [
    {
     "data": {
      "image/png": "[encoded data removed]",
      "text/plain": [
       "<Figure size 1200x600 with 1 Axes>"
      ]
     },
     "metadata": {},
     "output_type": "display_data"
    }
   ],
   "source": [
    "\n",
    "plt.figure(figsize=(12,6))\n",
    "plt.plot(weekly['Week'], weekly['Weekly_Revenue'], marker='o', linestyle='-', label='Weekly Revenue')\n",
    "plt.xlabel('Date')\n",
    "plt.ylabel(\"Revenue\")\n",
    "plt.title('Weekly Revenue Trend')\n",
    "plt.legend()\n",
    "plt.grid()\n",
    "plt.show()\n"
   ]
  },
  {
   "cell_type": "code",
   "execution_count": null,
   "metadata": {},
   "outputs": [
    {
     "ename": "KeyError",
     "evalue": "'Column not found: Daily_revenue'",
     "output_type": "error",
     "traceback": [
      "\u001b[31m---------------------------------------------------------------------------\u001b[39m",
      "\u001b[31mKeyError\u001b[39m                                  Traceback (most recent call last)",
      "\u001b[36mCell\u001b[39m\u001b[36m \u001b[39m\u001b[32mIn[45]\u001b[39m\u001b[32m, line 4\u001b[39m\n\u001b[32m      1\u001b[39m \u001b[38;5;66;03m#get monthly revenue for  or finance\u001b[39;00m\n\u001b[32m      3\u001b[39m df[\u001b[33m'\u001b[39m\u001b[33mMonthly\u001b[39m\u001b[33m'\u001b[39m] = df[\u001b[33m'\u001b[39m\u001b[33mDate\u001b[39m\u001b[33m'\u001b[39m].dt.to_period(\u001b[33m'\u001b[39m\u001b[33mM\u001b[39m\u001b[33m'\u001b[39m).apply(\u001b[38;5;28;01mlambda\u001b[39;00m x: x.start_time)\n\u001b[32m----> \u001b[39m\u001b[32m4\u001b[39m monthly = \u001b[43mdf\u001b[49m\u001b[43m.\u001b[49m\u001b[43mgroupby\u001b[49m\u001b[43m(\u001b[49m\u001b[33;43m'\u001b[39;49m\u001b[33;43mMonthly\u001b[39;49m\u001b[33;43m'\u001b[39;49m\u001b[43m)\u001b[49m\u001b[43m[\u001b[49m\u001b[33;43m'\u001b[39;49m\u001b[33;43mDaily_revenue\u001b[39;49m\u001b[33;43m'\u001b[39;49m\u001b[43m]\u001b[49m.sum().reset_index()\n\u001b[32m      6\u001b[39m \u001b[38;5;28mprint\u001b[39m(monthly)\n",
      "\u001b[36mFile \u001b[39m\u001b[32mc:\\Users\\francis\\AppData\\Local\\Programs\\Python\\Python312\\Lib\\site-packages\\pandas\\core\\groupby\\generic.py:1951\u001b[39m, in \u001b[36mDataFrameGroupBy.__getitem__\u001b[39m\u001b[34m(self, key)\u001b[39m\n\u001b[32m   1944\u001b[39m \u001b[38;5;28;01mif\u001b[39;00m \u001b[38;5;28misinstance\u001b[39m(key, \u001b[38;5;28mtuple\u001b[39m) \u001b[38;5;129;01mand\u001b[39;00m \u001b[38;5;28mlen\u001b[39m(key) > \u001b[32m1\u001b[39m:\n\u001b[32m   1945\u001b[39m     \u001b[38;5;66;03m# if len == 1, then it becomes a SeriesGroupBy and this is actually\u001b[39;00m\n\u001b[32m   1946\u001b[39m     \u001b[38;5;66;03m# valid syntax, so don't raise\u001b[39;00m\n\u001b[32m   1947\u001b[39m     \u001b[38;5;28;01mraise\u001b[39;00m \u001b[38;5;167;01mValueError\u001b[39;00m(\n\u001b[32m   1948\u001b[39m         \u001b[33m\"\u001b[39m\u001b[33mCannot subset columns with a tuple with more than one element. \u001b[39m\u001b[33m\"\u001b[39m\n\u001b[32m   1949\u001b[39m         \u001b[33m\"\u001b[39m\u001b[33mUse a list instead.\u001b[39m\u001b[33m\"\u001b[39m\n\u001b[32m   1950\u001b[39m     )\n\u001b[32m-> \u001b[39m\u001b[32m1951\u001b[39m \u001b[38;5;28;01mreturn\u001b[39;00m \u001b[38;5;28;43msuper\u001b[39;49m\u001b[43m(\u001b[49m\u001b[43m)\u001b[49m\u001b[43m.\u001b[49m\u001b[34;43m__getitem__\u001b[39;49m\u001b[43m(\u001b[49m\u001b[43mkey\u001b[49m\u001b[43m)\u001b[49m\n",
      "\u001b[36mFile \u001b[39m\u001b[32mc:\\Users\\francis\\AppData\\Local\\Programs\\Python\\Python312\\Lib\\site-packages\\pandas\\core\\base.py:244\u001b[39m, in \u001b[36mSelectionMixin.__getitem__\u001b[39m\u001b[34m(self, key)\u001b[39m\n\u001b[32m    242\u001b[39m \u001b[38;5;28;01melse\u001b[39;00m:\n\u001b[32m    243\u001b[39m     \u001b[38;5;28;01mif\u001b[39;00m key \u001b[38;5;129;01mnot\u001b[39;00m \u001b[38;5;129;01min\u001b[39;00m \u001b[38;5;28mself\u001b[39m.obj:\n\u001b[32m--> \u001b[39m\u001b[32m244\u001b[39m         \u001b[38;5;28;01mraise\u001b[39;00m \u001b[38;5;167;01mKeyError\u001b[39;00m(\u001b[33mf\u001b[39m\u001b[33m\"\u001b[39m\u001b[33mColumn not found: \u001b[39m\u001b[38;5;132;01m{\u001b[39;00mkey\u001b[38;5;132;01m}\u001b[39;00m\u001b[33m\"\u001b[39m)\n\u001b[32m    245\u001b[39m     ndim = \u001b[38;5;28mself\u001b[39m.obj[key].ndim\n\u001b[32m    246\u001b[39m     \u001b[38;5;28;01mreturn\u001b[39;00m \u001b[38;5;28mself\u001b[39m._gotitem(key, ndim=ndim)\n",
      "\u001b[31mKeyError\u001b[39m: 'Column not found: Daily_revenue'"
     ]
    }
   ],
   "source": [
    "#get monthly revenue for  or finance\n",
    "\n",
    "df['Monthly'] = df['Date'].dt.to_period('M').to_timestamp()\n",
    "\n",
    "monthly = df.groupby('Monthly')['Daily_revenue'].sum().reset_index()\n",
    "\n",
    "print(monthly)"
   ]
  }
 ],
 "metadata": {
  "kernelspec": {
   "display_name": "Python 3",
   "language": "python",
   "name": "python3"
  },
  "language_info": {
   "codemirror_mode": {
    "name": "ipython",
    "version": 3
   },
   "file_extension": ".py",
   "mimetype": "text/x-python",
   "name": "python",
   "nbconvert_exporter": "python",
   "pygments_lexer": "ipython3",
   "version": "3.12.3"
  }
 },
 "nbformat": 4,
 "nbformat_minor": 2
}
