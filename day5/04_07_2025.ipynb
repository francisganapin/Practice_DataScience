{
 "cells": [
  {
   "cell_type": "code",
   "execution_count": 1,
   "metadata": {},
   "outputs": [],
   "source": [
    "import numpy as np"
   ]
  },
  {
   "cell_type": "code",
   "execution_count": 2,
   "metadata": {},
   "outputs": [],
   "source": [
    "scores = np.array([\n",
    "    [75,88,92,85],\n",
    "    [66,70,65,60],\n",
    "    [90,95,98,100],\n",
    "    [50,45,60,55],\n",
    "    [80,85,89,90]\n",
    "])"
   ]
  },
  {
   "cell_type": "code",
   "execution_count": 3,
   "metadata": {},
   "outputs": [
    {
     "name": "stdout",
     "output_type": "stream",
     "text": [
      "[[0.         0.76470588 1.         0.58823529]\n",
      " [0.6        1.         0.5        0.        ]\n",
      " [0.         0.5        0.8        1.        ]\n",
      " [0.33333333 0.         1.         0.66666667]\n",
      " [0.         0.5        0.9        1.        ]]\n"
     ]
    }
   ],
   "source": [
    "min_scores = scores.min(axis=1,keepdims=True)\n",
    "max_scores = scores.max(axis=1,keepdims=True)\n",
    "\n",
    "normalized = (scores - min_scores) / (max_scores - min_scores + 1e-8)\n",
    "\n",
    "\n",
    "print(normalized)\n"
   ]
  },
  {
   "cell_type": "code",
   "execution_count": 4,
   "metadata": {},
   "outputs": [],
   "source": [
    "sensor_data = np.array([\n",
    "    [100, 105, 98, 110, 95, 115, 102, 108, 99, 104],     # Sensor 1 (°C)\n",
    "    [0.8, 0.85, 0.82, 0.9, 0.7, 0.95, 0.78, 0.88, 0.8, 0.83],  # Sensor 2 (V)\n",
    "    [5000, 5200, 5100, 5300, 4900, 5400, 5050, 5150, 4950, 5250] # Sensor 3 (RPM)\n",
    "])"
   ]
  },
  {
   "cell_type": "code",
   "execution_count": 5,
   "metadata": {},
   "outputs": [],
   "source": [
    "min_vals = sensor_data.min(axis=1,keepdims=True)\n",
    "max_vals = sensor_data.max(axis=1,keepdims=True)\n",
    "\n",
    "normalized = (sensor_data - min_vals) / (max_vals - min_vals + 1e-8)"
   ]
  },
  {
   "cell_type": "code",
   "execution_count": 6,
   "metadata": {},
   "outputs": [
    {
     "name": "stdout",
     "output_type": "stream",
     "text": [
      "[[0.25       0.5        0.15       0.75       0.         1.\n",
      "  0.35       0.65       0.2        0.45      ]\n",
      " [0.39999998 0.59999998 0.47999998 0.79999997 0.         0.99999996\n",
      "  0.31999999 0.71999997 0.39999998 0.51999998]\n",
      " [0.2        0.6        0.4        0.8        0.         1.\n",
      "  0.3        0.5        0.1        0.7       ]]\n"
     ]
    }
   ],
   "source": [
    "print(normalized)"
   ]
  },
  {
   "cell_type": "code",
   "execution_count": 7,
   "metadata": {},
   "outputs": [],
   "source": [
    "import numpy as np\n",
    "\n",
    "people = np.array([\n",
    "    [25,60,170],\n",
    "    [30,72,180],\n",
    "    [22,55,160],\n",
    "    [35,90,175]\n",
    "])"
   ]
  },
  {
   "cell_type": "code",
   "execution_count": null,
   "metadata": {},
   "outputs": [],
   "source": [
    "min_vals = people.min(axis=0)\n",
    "max_vals = people.max(axis=0)\n",
    "\n",
    "\n",
    "minmax_normalized = (people - min_vals) / (max_vals - min_vals)\n",
    "\n"
   ]
  },
  {
   "cell_type": "code",
   "execution_count": 8,
   "metadata": {},
   "outputs": [],
   "source": [
    "returns = np.array([0.10,0.12,0.08])\n",
    "weights = np.array([0.4,0.4,0.2])"
   ]
  },
  {
   "cell_type": "code",
   "execution_count": 9,
   "metadata": {},
   "outputs": [],
   "source": [
    "cov_matrix = np.array([\n",
    "    [0.04,0.006,0.012],\n",
    "    [0.006,0.09,0.018],\n",
    "    [0.012,0.018,0.0225]\n",
    "])"
   ]
  },
  {
   "cell_type": "code",
   "execution_count": 10,
   "metadata": {},
   "outputs": [],
   "source": [
    "expected_return = np.dot(weights,returns)"
   ]
  },
  {
   "cell_type": "code",
   "execution_count": 11,
   "metadata": {},
   "outputs": [],
   "source": [
    "portfolio_variance = np.dot(weights.T,np.dot(cov_matrix,weights))\n",
    "\n",
    "\n",
    "portfolio_std = np.sqrt(portfolio_variance)"
   ]
  },
  {
   "cell_type": "code",
   "execution_count": 12,
   "metadata": {},
   "outputs": [
    {
     "name": "stdout",
     "output_type": "stream",
     "text": [
      "Expected Return: 10.4 %\n",
      "Portfolio Risk (Std Dev): 16.86 %\n"
     ]
    }
   ],
   "source": [
    "print(\"Expected Return:\", round(expected_return * 100, 2), \"%\")\n",
    "print(\"Portfolio Risk (Std Dev):\", round(portfolio_std * 100, 2), \"%\")"
   ]
  },
  {
   "cell_type": "code",
   "execution_count": 13,
   "metadata": {},
   "outputs": [],
   "source": [
    "prices = np.array([100,105,110,100])\n"
   ]
  },
  {
   "cell_type": "code",
   "execution_count": 15,
   "metadata": {},
   "outputs": [
    {
     "name": "stdout",
     "output_type": "stream",
     "text": [
      "Simple Returns: [ 0.05        0.04761905 -0.09090909]\n"
     ]
    }
   ],
   "source": [
    "simple_returns = (prices[1:] - prices[:-1]) / prices[:-1]\n",
    "print('Simple Returns:',simple_returns)"
   ]
  },
  {
   "cell_type": "code",
   "execution_count": 18,
   "metadata": {},
   "outputs": [
    {
     "name": "stdout",
     "output_type": "stream",
     "text": [
      "[ 0.04879016  0.04652002 -0.09531018]\n"
     ]
    }
   ],
   "source": [
    "log_returns = np.log(prices[1:] / prices[:-1])\n",
    "print(log_returns)"
   ]
  },
  {
   "cell_type": "code",
   "execution_count": 20,
   "metadata": {},
   "outputs": [
    {
     "name": "stdout",
     "output_type": "stream",
     "text": [
      "Porfoli Return: 0.059\n"
     ]
    }
   ],
   "source": [
    "returns = np.array([0.05,0.1,0.02])\n",
    "weights = np.array([0.5,0.3,0.2])\n",
    "\n",
    "portfolio_return = np.dot(weights,returns)\n",
    "print('Porfoli Return:',portfolio_return)"
   ]
  },
  {
   "cell_type": "code",
   "execution_count": 21,
   "metadata": {},
   "outputs": [],
   "source": [
    "returns = np.array([\n",
    "    [0.01,0.03,0.005],\n",
    "    [0.02,0.01,0.007],\n",
    "    [-0.01,0.02,0.003],\n",
    "    [0.005,-0.01,0.002]\n",
    "])\n",
    "\n",
    "mean_returns = np.mean(returns,axis=0)"
   ]
  },
  {
   "cell_type": "code",
   "execution_count": 23,
   "metadata": {},
   "outputs": [
    {
     "name": "stdout",
     "output_type": "stream",
     "text": [
      "[[ 1.56250000e-04 -2.08333333e-05  2.12500000e-05]\n",
      " [-2.08333333e-05  2.91666667e-04  1.58333333e-05]\n",
      " [ 2.12500000e-05  1.58333333e-05  4.91666667e-06]]\n"
     ]
    }
   ],
   "source": [
    "cov_matrix = np.cov(returns.T)\n",
    "print(cov_matrix)"
   ]
  },
  {
   "cell_type": "code",
   "execution_count": 24,
   "metadata": {},
   "outputs": [
    {
     "name": "stdout",
     "output_type": "stream",
     "text": [
      "[40 50]\n"
     ]
    }
   ],
   "source": [
    "import numpy as np\n",
    "\n",
    "arr = np.array([10,20,30,40,50])\n",
    "mask = arr > 30\n",
    "print(arr[mask])"
   ]
  },
  {
   "cell_type": "code",
   "execution_count": 25,
   "metadata": {},
   "outputs": [],
   "source": [
    "arr = np.array([5,10,15,20,25])\n",
    "\n",
    "mask = (arr >= 10) & (arr <= 20)"
   ]
  },
  {
   "cell_type": "code",
   "execution_count": 26,
   "metadata": {},
   "outputs": [
    {
     "name": "stdout",
     "output_type": "stream",
     "text": [
      "[10 15 20]\n"
     ]
    }
   ],
   "source": [
    "print(arr[mask])"
   ]
  },
  {
   "cell_type": "code",
   "execution_count": 27,
   "metadata": {},
   "outputs": [],
   "source": [
    "arr = np.array([12,45,7,30])\n",
    "\n",
    "\n",
    "new_arr = np.where(arr < 20,0,arr)"
   ]
  },
  {
   "cell_type": "code",
   "execution_count": 28,
   "metadata": {},
   "outputs": [
    {
     "name": "stdout",
     "output_type": "stream",
     "text": [
      "[ 0 45  0 30]\n"
     ]
    }
   ],
   "source": [
    "print(new_arr)"
   ]
  },
  {
   "cell_type": "code",
   "execution_count": null,
   "metadata": {},
   "outputs": [],
   "source": [
    "mat  = np.array([[1,2,3]])"
   ]
  }
 ],
 "metadata": {
  "kernelspec": {
   "display_name": "Python 3",
   "language": "python",
   "name": "python3"
  },
  "language_info": {
   "codemirror_mode": {
    "name": "ipython",
    "version": 3
   },
   "file_extension": ".py",
   "mimetype": "text/x-python",
   "name": "python",
   "nbconvert_exporter": "python",
   "pygments_lexer": "ipython3",
   "version": "3.12.3"
  }
 },
 "nbformat": 4,
 "nbformat_minor": 2
}
