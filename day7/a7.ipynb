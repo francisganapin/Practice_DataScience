{
 "cells": [
  {
   "cell_type": "code",
   "execution_count": 1,
   "metadata": {},
   "outputs": [],
   "source": [
    "import pandas as pd"
   ]
  },
  {
   "cell_type": "code",
   "execution_count": 3,
   "metadata": {},
   "outputs": [],
   "source": [
    "df = pd.DataFrame({\n",
    "    'name':['Alice','Bob','Charlie','David'],\n",
    "    'Score':[92,65,70,48]\n",
    "})\n",
    "\n",
    "\n",
    "df['grade'] = pd.cut(df['Score'],\n",
    "                     bins=[0,59,69,79,89,100],\n",
    "                     labels=['F','D','C','B','A'],\n",
    "                     right=True\n",
    "                     \n",
    "                     )"
   ]
  },
  {
   "cell_type": "code",
   "execution_count": 4,
   "metadata": {},
   "outputs": [
    {
     "name": "stdout",
     "output_type": "stream",
     "text": [
      "      name  Score grade\n",
      "0    Alice     92     A\n",
      "1      Bob     65     D\n",
      "2  Charlie     70     C\n",
      "3    David     48     F\n"
     ]
    }
   ],
   "source": [
    "print(df)"
   ]
  },
  {
   "cell_type": "code",
   "execution_count": 6,
   "metadata": {},
   "outputs": [],
   "source": [
    "import numpy as np\n",
    "\n",
    "\n",
    "conditions = [\n",
    "    (df['Score'] >= 90),\n",
    "    (df['Score'] >= 70) & (df['Score'] < 90),\n",
    "    (df['Score'] < 70)\n",
    "]"
   ]
  },
  {
   "cell_type": "code",
   "execution_count": 9,
   "metadata": {},
   "outputs": [],
   "source": [
    "choices = ['Exellent','Satisfactory','Poor']\n",
    "\n",
    "\n"
   ]
  },
  {
   "cell_type": "code",
   "execution_count": 10,
   "metadata": {},
   "outputs": [],
   "source": [
    "df['performance'\n",
    "] = np.select(conditions,choices,default='Unknown')"
   ]
  },
  {
   "cell_type": "code",
   "execution_count": 11,
   "metadata": {},
   "outputs": [
    {
     "name": "stdout",
     "output_type": "stream",
     "text": [
      "      name  Score grade   performance\n",
      "0    Alice     92     A      Exellent\n",
      "1      Bob     65     D          Poor\n",
      "2  Charlie     70     C  Satisfactory\n",
      "3    David     48     F          Poor\n"
     ]
    }
   ],
   "source": [
    "print(df)"
   ]
  },
  {
   "cell_type": "code",
   "execution_count": 12,
   "metadata": {},
   "outputs": [],
   "source": [
    "df = pd.DataFrame({\n",
    "    'group':['A','A','B','B'],\n",
    "    'value':[100,150,200,250]\n",
    "})"
   ]
  },
  {
   "cell_type": "code",
   "execution_count": 13,
   "metadata": {},
   "outputs": [],
   "source": [
    "df['normalized'] = df['value'] / df.groupby('group')['value'].transform('sum')"
   ]
  },
  {
   "cell_type": "code",
   "execution_count": 14,
   "metadata": {},
   "outputs": [
    {
     "name": "stdout",
     "output_type": "stream",
     "text": [
      "  group  value  normalized\n",
      "0     A    100    0.400000\n",
      "1     A    150    0.600000\n",
      "2     B    200    0.444444\n",
      "3     B    250    0.555556\n"
     ]
    }
   ],
   "source": [
    "print(df)"
   ]
  },
  {
   "cell_type": "code",
   "execution_count": 15,
   "metadata": {},
   "outputs": [],
   "source": [
    "df = pd.DataFrame({\n",
    "    'name':['Alice','Bob','Charlie','David'],\n",
    "    'score':[92,65,70,48],\n",
    "    'age':[20,22,21,23]\n",
    "})"
   ]
  },
  {
   "cell_type": "code",
   "execution_count": 16,
   "metadata": {},
   "outputs": [],
   "source": [
    "df.loc[(df['score'] > 70) & (df['age'] < 21),'final_status'] = 'Pass'"
   ]
  },
  {
   "cell_type": "code",
   "execution_count": 17,
   "metadata": {},
   "outputs": [
    {
     "name": "stdout",
     "output_type": "stream",
     "text": [
      "      name  score  age final_status\n",
      "0    Alice     92   20         Pass\n",
      "1      Bob     65   22          NaN\n",
      "2  Charlie     70   21          NaN\n",
      "3    David     48   23          NaN\n"
     ]
    }
   ],
   "source": [
    "print(df)"
   ]
  },
  {
   "cell_type": "code",
   "execution_count": 18,
   "metadata": {},
   "outputs": [],
   "source": [
    "df = pd.DataFrame({\n",
    "    'day':pd.date_range('2025-01-01',periods=6),\n",
    "    'sales':[100,200,150,130,500,300]\n",
    "})"
   ]
  },
  {
   "cell_type": "code",
   "execution_count": 19,
   "metadata": {},
   "outputs": [],
   "source": [
    "df['rolling_avg'] = df['sales'].rolling(window=3).mean()"
   ]
  },
  {
   "cell_type": "code",
   "execution_count": 20,
   "metadata": {},
   "outputs": [],
   "source": [
    "df['spike'] = df['sales'] > df['rolling_avg'] * 1.5"
   ]
  },
  {
   "cell_type": "code",
   "execution_count": 21,
   "metadata": {},
   "outputs": [
    {
     "name": "stdout",
     "output_type": "stream",
     "text": [
      "         day  sales  rolling_avg  spike\n",
      "0 2025-01-01    100          NaN  False\n",
      "1 2025-01-02    200          NaN  False\n",
      "2 2025-01-03    150        150.0  False\n",
      "3 2025-01-04    130        160.0  False\n",
      "4 2025-01-05    500        260.0   True\n",
      "5 2025-01-06    300        310.0  False\n"
     ]
    }
   ],
   "source": [
    "print(df)"
   ]
  },
  {
   "cell_type": "code",
   "execution_count": 22,
   "metadata": {},
   "outputs": [],
   "source": [
    "df = pd.DataFrame({\n",
    "    'department':['HR','HR','Sales','Sales','Sales'],\n",
    "    'employee':['A','B','C','D','E'],\n",
    "    'sales':[50,70,100,200,250]\n",
    "})"
   ]
  },
  {
   "cell_type": "code",
   "execution_count": 23,
   "metadata": {},
   "outputs": [],
   "source": [
    "df['top_quartile'] = df.groupby('department')['sales'].transform(\n",
    "    lambda x: x >= x.quantile(0.75)\n",
    ")"
   ]
  },
  {
   "cell_type": "code",
   "execution_count": 24,
   "metadata": {},
   "outputs": [
    {
     "name": "stdout",
     "output_type": "stream",
     "text": [
      "  department employee  sales  top_quartile\n",
      "0         HR        A     50         False\n",
      "1         HR        B     70          True\n",
      "2      Sales        C    100         False\n",
      "3      Sales        D    200         False\n",
      "4      Sales        E    250          True\n"
     ]
    }
   ],
   "source": [
    "print(df)"
   ]
  },
  {
   "cell_type": "code",
   "execution_count": 26,
   "metadata": {},
   "outputs": [],
   "source": [
    "df['is_top'] = df.groupby('department')['sales'].transform('max') == df['sales']"
   ]
  },
  {
   "cell_type": "code",
   "execution_count": 27,
   "metadata": {},
   "outputs": [
    {
     "name": "stdout",
     "output_type": "stream",
     "text": [
      "  department employee  sales  top_quartile  is_top\n",
      "0         HR        A     50         False   False\n",
      "1         HR        B     70          True    True\n",
      "2      Sales        C    100         False   False\n",
      "3      Sales        D    200         False   False\n",
      "4      Sales        E    250          True    True\n"
     ]
    }
   ],
   "source": [
    "print(df)"
   ]
  },
  {
   "cell_type": "code",
   "execution_count": 28,
   "metadata": {},
   "outputs": [],
   "source": [
    "df['rank'] = df.groupby('department')['sales'].rank(ascending=False)"
   ]
  },
  {
   "cell_type": "code",
   "execution_count": 29,
   "metadata": {},
   "outputs": [
    {
     "name": "stdout",
     "output_type": "stream",
     "text": [
      "  department employee  sales  top_quartile  is_top  rank\n",
      "0         HR        A     50         False   False   2.0\n",
      "1         HR        B     70          True    True   1.0\n",
      "2      Sales        C    100         False   False   3.0\n",
      "3      Sales        D    200         False   False   2.0\n",
      "4      Sales        E    250          True    True   1.0\n"
     ]
    }
   ],
   "source": [
    "print(df)"
   ]
  },
  {
   "cell_type": "code",
   "execution_count": 30,
   "metadata": {},
   "outputs": [],
   "source": [
    "df['dept_avg'] = df.groupby('department')['sales'].transform('mean')"
   ]
  },
  {
   "cell_type": "code",
   "execution_count": 31,
   "metadata": {},
   "outputs": [],
   "source": [
    "df['abovie_avg'] = df['sales'] > df['dept_avg']"
   ]
  },
  {
   "cell_type": "code",
   "execution_count": 32,
   "metadata": {},
   "outputs": [
    {
     "name": "stdout",
     "output_type": "stream",
     "text": [
      "  department employee  sales  top_quartile  is_top  rank    dept_avg  \\\n",
      "0         HR        A     50         False   False   2.0   60.000000   \n",
      "1         HR        B     70          True    True   1.0   60.000000   \n",
      "2      Sales        C    100         False   False   3.0  183.333333   \n",
      "3      Sales        D    200         False   False   2.0  183.333333   \n",
      "4      Sales        E    250          True    True   1.0  183.333333   \n",
      "\n",
      "   abovie_avg  \n",
      "0       False  \n",
      "1        True  \n",
      "2       False  \n",
      "3        True  \n",
      "4        True  \n"
     ]
    }
   ],
   "source": [
    "print(df)"
   ]
  },
  {
   "cell_type": "code",
   "execution_count": 33,
   "metadata": {},
   "outputs": [],
   "source": [
    "df['quartile'] = df.groupby('department')['sales'].transform(\n",
    "    lambda x: pd.qcut(x,q=4,labels=['Q1','Q2','Q3','Q4'])\n",
    ")"
   ]
  },
  {
   "cell_type": "code",
   "execution_count": 34,
   "metadata": {},
   "outputs": [
    {
     "name": "stdout",
     "output_type": "stream",
     "text": [
      "  department employee  sales  top_quartile  is_top  rank    dept_avg  \\\n",
      "0         HR        A     50         False   False   2.0   60.000000   \n",
      "1         HR        B     70          True    True   1.0   60.000000   \n",
      "2      Sales        C    100         False   False   3.0  183.333333   \n",
      "3      Sales        D    200         False   False   2.0  183.333333   \n",
      "4      Sales        E    250          True    True   1.0  183.333333   \n",
      "\n",
      "   abovie_avg quartile  \n",
      "0       False       Q1  \n",
      "1        True       Q4  \n",
      "2       False       Q1  \n",
      "3        True       Q2  \n",
      "4        True       Q4  \n"
     ]
    }
   ],
   "source": [
    "print(df)"
   ]
  },
  {
   "cell_type": "code",
   "execution_count": 35,
   "metadata": {},
   "outputs": [],
   "source": [
    "df['bottom_20'] = df.groupby('department')['sales'].transform(\n",
    "    lambda x: x <= x.quantile(0.2)\n",
    ")"
   ]
  },
  {
   "cell_type": "code",
   "execution_count": 36,
   "metadata": {},
   "outputs": [
    {
     "name": "stdout",
     "output_type": "stream",
     "text": [
      "  department employee  sales  top_quartile  is_top  rank    dept_avg  \\\n",
      "0         HR        A     50         False   False   2.0   60.000000   \n",
      "1         HR        B     70          True    True   1.0   60.000000   \n",
      "2      Sales        C    100         False   False   3.0  183.333333   \n",
      "3      Sales        D    200         False   False   2.0  183.333333   \n",
      "4      Sales        E    250          True    True   1.0  183.333333   \n",
      "\n",
      "   abovie_avg quartile  bottom_20  \n",
      "0       False       Q1       True  \n",
      "1        True       Q4      False  \n",
      "2       False       Q1       True  \n",
      "3        True       Q2      False  \n",
      "4        True       Q4      False  \n"
     ]
    }
   ],
   "source": [
    "print(df)"
   ]
  },
  {
   "cell_type": "code",
   "execution_count": 37,
   "metadata": {},
   "outputs": [],
   "source": [
    "df['dept_mean'] = df.groupby('department')['sales'].transform('mean')"
   ]
  },
  {
   "cell_type": "code",
   "execution_count": 41,
   "metadata": {},
   "outputs": [],
   "source": [
    "df['dept_std'] = df.groupby('department')['sales'].transform('std')"
   ]
  },
  {
   "cell_type": "code",
   "execution_count": 38,
   "metadata": {},
   "outputs": [
    {
     "name": "stdout",
     "output_type": "stream",
     "text": [
      "  department employee  sales  top_quartile  is_top  rank    dept_avg  \\\n",
      "0         HR        A     50         False   False   2.0   60.000000   \n",
      "1         HR        B     70          True    True   1.0   60.000000   \n",
      "2      Sales        C    100         False   False   3.0  183.333333   \n",
      "3      Sales        D    200         False   False   2.0  183.333333   \n",
      "4      Sales        E    250          True    True   1.0  183.333333   \n",
      "\n",
      "   abovie_avg quartile  bottom_20   dept_mean  \n",
      "0       False       Q1       True   60.000000  \n",
      "1        True       Q4      False   60.000000  \n",
      "2       False       Q1       True  183.333333  \n",
      "3        True       Q2      False  183.333333  \n",
      "4        True       Q4      False  183.333333  \n"
     ]
    }
   ],
   "source": [
    "print(df)"
   ]
  },
  {
   "cell_type": "code",
   "execution_count": 42,
   "metadata": {},
   "outputs": [],
   "source": [
    "df['z_score'] = (df['sales'] - df['dept_mean']) / df['dept_std']"
   ]
  },
  {
   "cell_type": "code",
   "execution_count": 43,
   "metadata": {},
   "outputs": [
    {
     "name": "stdout",
     "output_type": "stream",
     "text": [
      "  department employee  sales  top_quartile  is_top  rank    dept_avg  \\\n",
      "0         HR        A     50         False   False   2.0   60.000000   \n",
      "1         HR        B     70          True    True   1.0   60.000000   \n",
      "2      Sales        C    100         False   False   3.0  183.333333   \n",
      "3      Sales        D    200         False   False   2.0  183.333333   \n",
      "4      Sales        E    250          True    True   1.0  183.333333   \n",
      "\n",
      "   abovie_avg quartile  bottom_20   dept_mean   dept_std   z_score  \n",
      "0       False       Q1       True   60.000000  14.142136 -0.707107  \n",
      "1        True       Q4      False   60.000000  14.142136  0.707107  \n",
      "2       False       Q1       True  183.333333  76.376262 -1.091089  \n",
      "3        True       Q2      False  183.333333  76.376262  0.218218  \n",
      "4        True       Q4      False  183.333333  76.376262  0.872872  \n"
     ]
    }
   ],
   "source": [
    "print(df)"
   ]
  },
  {
   "cell_type": "code",
   "execution_count": 44,
   "metadata": {},
   "outputs": [],
   "source": [
    "df['dept_total'] = df.groupby('department')['sales'].transform('sum')"
   ]
  },
  {
   "cell_type": "code",
   "execution_count": 45,
   "metadata": {},
   "outputs": [],
   "source": [
    "df['contribution_%'] = (df['sales'] / df['dept_total']) * 100"
   ]
  },
  {
   "cell_type": "code",
   "execution_count": 46,
   "metadata": {},
   "outputs": [
    {
     "name": "stdout",
     "output_type": "stream",
     "text": [
      "  department employee  sales  top_quartile  is_top  rank    dept_avg  \\\n",
      "0         HR        A     50         False   False   2.0   60.000000   \n",
      "1         HR        B     70          True    True   1.0   60.000000   \n",
      "2      Sales        C    100         False   False   3.0  183.333333   \n",
      "3      Sales        D    200         False   False   2.0  183.333333   \n",
      "4      Sales        E    250          True    True   1.0  183.333333   \n",
      "\n",
      "   abovie_avg quartile  bottom_20   dept_mean   dept_std   z_score  \\\n",
      "0       False       Q1       True   60.000000  14.142136 -0.707107   \n",
      "1        True       Q4      False   60.000000  14.142136  0.707107   \n",
      "2       False       Q1       True  183.333333  76.376262 -1.091089   \n",
      "3        True       Q2      False  183.333333  76.376262  0.218218   \n",
      "4        True       Q4      False  183.333333  76.376262  0.872872   \n",
      "\n",
      "   dept_total  contribution_%  \n",
      "0         120       41.666667  \n",
      "1         120       58.333333  \n",
      "2         550       18.181818  \n",
      "3         550       36.363636  \n",
      "4         550       45.454545  \n"
     ]
    }
   ],
   "source": [
    "print(df)"
   ]
  },
  {
   "cell_type": "code",
   "execution_count": 49,
   "metadata": {},
   "outputs": [],
   "source": [
    "df['bonus_eligible'] = df.groupby('department')['sales'].rank(ascending=False) <= 1"
   ]
  },
  {
   "cell_type": "code",
   "execution_count": 50,
   "metadata": {},
   "outputs": [
    {
     "name": "stdout",
     "output_type": "stream",
     "text": [
      "  department employee  sales  top_quartile  is_top  rank    dept_avg  \\\n",
      "0         HR        A     50         False   False   2.0   60.000000   \n",
      "1         HR        B     70          True    True   1.0   60.000000   \n",
      "2      Sales        C    100         False   False   3.0  183.333333   \n",
      "3      Sales        D    200         False   False   2.0  183.333333   \n",
      "4      Sales        E    250          True    True   1.0  183.333333   \n",
      "\n",
      "   abovie_avg quartile  bottom_20   dept_mean   dept_std   z_score  \\\n",
      "0       False       Q1       True   60.000000  14.142136 -0.707107   \n",
      "1        True       Q4      False   60.000000  14.142136  0.707107   \n",
      "2       False       Q1       True  183.333333  76.376262 -1.091089   \n",
      "3        True       Q2      False  183.333333  76.376262  0.218218   \n",
      "4        True       Q4      False  183.333333  76.376262  0.872872   \n",
      "\n",
      "   dept_total  contribution_%  bonus_eligible  \n",
      "0         120       41.666667           False  \n",
      "1         120       58.333333            True  \n",
      "2         550       18.181818           False  \n",
      "3         550       36.363636           False  \n",
      "4         550       45.454545            True  \n"
     ]
    }
   ],
   "source": [
    "print(df)"
   ]
  },
  {
   "cell_type": "code",
   "execution_count": 51,
   "metadata": {},
   "outputs": [],
   "source": [
    "df['dept_size'] = df.groupby('department')['employee'].transform('count')"
   ]
  },
  {
   "cell_type": "code",
   "execution_count": 52,
   "metadata": {},
   "outputs": [],
   "source": [
    "filtered = df[df['dept_size'] > 2]"
   ]
  },
  {
   "cell_type": "code",
   "execution_count": 53,
   "metadata": {},
   "outputs": [
    {
     "name": "stdout",
     "output_type": "stream",
     "text": [
      "  department employee  sales  top_quartile  is_top  rank    dept_avg  \\\n",
      "2      Sales        C    100         False   False   3.0  183.333333   \n",
      "3      Sales        D    200         False   False   2.0  183.333333   \n",
      "4      Sales        E    250          True    True   1.0  183.333333   \n",
      "\n",
      "   abovie_avg quartile  bottom_20   dept_mean   dept_std   z_score  \\\n",
      "2       False       Q1       True  183.333333  76.376262 -1.091089   \n",
      "3        True       Q2      False  183.333333  76.376262  0.218218   \n",
      "4        True       Q4      False  183.333333  76.376262  0.872872   \n",
      "\n",
      "   dept_total  contribution_%  bonus_eligible  dept_size  \n",
      "2         550       18.181818           False          3  \n",
      "3         550       36.363636           False          3  \n",
      "4         550       45.454545            True          3  \n"
     ]
    }
   ],
   "source": [
    "print(filtered)"
   ]
  },
  {
   "cell_type": "code",
   "execution_count": 54,
   "metadata": {},
   "outputs": [],
   "source": [
    "import pandas as pd\n",
    "\n",
    "df1 = pd.DataFrame({\n",
    "    'team': ['Alpha', 'Alpha', 'Alpha', 'Beta', 'Beta', 'Gamma', 'Gamma', 'Gamma'],\n",
    "    'employee': ['Anna', 'Ben', 'Cara', 'Dan', 'Ella', 'Finn', 'Gail', 'Hank'],\n",
    "    'project_hours': [120, 80, 100, 90, 110, 130, 70, 100],\n",
    "    'bugs_fixed': [45, 30, 25, 40, 50, 60, 20, 30],\n",
    "    'features_added': [10, 8, 6, 5, 12, 15, 4, 6]\n",
    "})\n"
   ]
  },
  {
   "cell_type": "code",
   "execution_count": 57,
   "metadata": {},
   "outputs": [],
   "source": [
    "df1['effort_score'] = df1['project_hours'] * 0.5 + df1['bugs_fixed'] * 1.5 + df1['features_added'] * 3"
   ]
  },
  {
   "cell_type": "code",
   "execution_count": 59,
   "metadata": {},
   "outputs": [
    {
     "name": "stdout",
     "output_type": "stream",
     "text": [
      "  employee  effort_score\n",
      "0     Anna         157.5\n",
      "1      Ben         109.0\n",
      "2     Cara         105.5\n",
      "3      Dan         120.0\n",
      "4     Ella         166.0\n",
      "5     Finn         200.0\n",
      "6     Gail          77.0\n",
      "7     Hank         113.0\n"
     ]
    }
   ],
   "source": [
    "print(df1[['employee','effort_score']])"
   ]
  },
  {
   "cell_type": "code",
   "execution_count": 62,
   "metadata": {},
   "outputs": [],
   "source": [
    "df1['team_percentile'] = df1.groupby('team')['effort_score'].rank(pct=True)"
   ]
  },
  {
   "cell_type": "code",
   "execution_count": 63,
   "metadata": {},
   "outputs": [
    {
     "name": "stdout",
     "output_type": "stream",
     "text": [
      "    team employee  project_hours  bugs_fixed  features_added  effort_score  \\\n",
      "0  Alpha     Anna            120          45              10         157.5   \n",
      "1  Alpha      Ben             80          30               8         109.0   \n",
      "2  Alpha     Cara            100          25               6         105.5   \n",
      "3   Beta      Dan             90          40               5         120.0   \n",
      "4   Beta     Ella            110          50              12         166.0   \n",
      "5  Gamma     Finn            130          60              15         200.0   \n",
      "6  Gamma     Gail             70          20               4          77.0   \n",
      "7  Gamma     Hank            100          30               6         113.0   \n",
      "\n",
      "   team_percentile  \n",
      "0         1.000000  \n",
      "1         0.666667  \n",
      "2         0.333333  \n",
      "3         0.500000  \n",
      "4         1.000000  \n",
      "5         1.000000  \n",
      "6         0.333333  \n",
      "7         0.666667  \n"
     ]
    }
   ],
   "source": [
    "print(df1)"
   ]
  }
 ],
 "metadata": {
  "kernelspec": {
   "display_name": "Python 3",
   "language": "python",
   "name": "python3"
  },
  "language_info": {
   "codemirror_mode": {
    "name": "ipython",
    "version": 3
   },
   "file_extension": ".py",
   "mimetype": "text/x-python",
   "name": "python",
   "nbconvert_exporter": "python",
   "pygments_lexer": "ipython3",
   "version": "3.12.3"
  }
 },
 "nbformat": 4,
 "nbformat_minor": 2
}
