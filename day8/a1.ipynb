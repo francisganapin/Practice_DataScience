{
 "cells": [
  {
   "cell_type": "code",
   "execution_count": 1,
   "metadata": {},
   "outputs": [],
   "source": [
    "import pandas as pd"
   ]
  },
  {
   "cell_type": "code",
   "execution_count": 3,
   "metadata": {},
   "outputs": [],
   "source": [
    "data = {\n",
    "    'OrderID': [1, 2, 3, 4, 5, 6, 7, 8],\n",
    "    'Customer': ['Alice', 'Bob', 'Alice', 'Dan', 'Eve', 'Dan', 'Bob', 'Eve'],\n",
    "    'Category': ['Electronics', 'Apparel', 'Apparel', 'Electronics', 'Electronics', 'Apparel', 'Apparel', 'Electronics'],\n",
    "    'Quantity': [1, 2, 2, 1, 3, 4, 1, 1],\n",
    "    'Price': [1200, 40, 30, 900, 100, 25, 60, 1500],\n",
    "    'OrderDate': pd.to_datetime([\n",
    "        '2024-01-12', '2024-01-12', '2024-02-14', '2024-03-10', \n",
    "        '2024-03-21', '2024-04-05', '2024-04-07', '2024-05-22'\n",
    "    ])\n",
    "}"
   ]
  },
  {
   "cell_type": "code",
   "execution_count": 4,
   "metadata": {},
   "outputs": [],
   "source": [
    "df = pd.DataFrame(data)"
   ]
  },
  {
   "cell_type": "code",
   "execution_count": 6,
   "metadata": {},
   "outputs": [
    {
     "name": "stdout",
     "output_type": "stream",
     "text": [
      "             Total_Quantity  Average_Price  Num_Orders\n",
      "Category                                              \n",
      "Apparel                   9          38.75           4\n",
      "Electronics               6         925.00           4\n"
     ]
    }
   ],
   "source": [
    "result = df.groupby('Category').agg(\n",
    "    Total_Quantity=('Quantity', 'sum'),\n",
    "    Average_Price=('Price', 'mean'),\n",
    "    Num_Orders=('OrderID', 'count')\n",
    ")\n",
    "print(result)"
   ]
  },
  {
   "cell_type": "code",
   "execution_count": 9,
   "metadata": {},
   "outputs": [
    {
     "name": "stdout",
     "output_type": "stream",
     "text": [
      "Category  Apparel  Electronics\n",
      "Customer                      \n",
      "Alice          60         1200\n",
      "Bob           140            0\n",
      "Dan           100          900\n",
      "Eve             0         1800\n"
     ]
    }
   ],
   "source": [
    "df['Sales'] = df['Quantity'] * df['Price']\n",
    "result = df.groupby(['Customer','Category'])['Sales'].sum().unstack(fill_value=0)\n",
    "print(result)"
   ]
  },
  {
   "cell_type": "code",
   "execution_count": null,
   "metadata": {},
   "outputs": [
    {
     "name": "stdout",
     "output_type": "stream",
     "text": [
      "Customer\n",
      "Alice    1260\n",
      "Eve      1800\n",
      "Name: Sales, dtype: int64\n"
     ]
    }
   ],
   "source": [
    "#only show customers whose total purchase exceed by $1000usd\n",
    "customer_sales = df.groupby('Customer')['Sales'].sum()\n",
    "big_customer = customer_sales[customer_sales > 1000]\n",
    "print(big_customer)"
   ]
  },
  {
   "cell_type": "code",
   "execution_count": 12,
   "metadata": {},
   "outputs": [
    {
     "name": "stdout",
     "output_type": "stream",
     "text": [
      "  Customer  OrderID  Sales\n",
      "0    Alice        1   1200\n",
      "1      Bob        2     80\n",
      "3      Dan        4    900\n",
      "7      Eve        8   1500\n"
     ]
    }
   ],
   "source": [
    "#for each customer, find the order with the highest sigle transaction value:\n",
    "idx = df.groupby('Customer')['Sales'].idxmax()\n",
    "biggest_order = df.loc[idx,['Customer','OrderID','Sales']]\n",
    "print(biggest_order)"
   ]
  },
  {
   "cell_type": "code",
   "execution_count": 13,
   "metadata": {},
   "outputs": [
    {
     "name": "stdout",
     "output_type": "stream",
     "text": [
      "   OrderID Customer  Sales  Avg_Customer_Sales  Diff_From_Avg\n",
      "0        1    Alice   1200               630.0          570.0\n",
      "1        2      Bob     80                70.0           10.0\n",
      "2        3    Alice     60               630.0         -570.0\n",
      "3        4      Dan    900               500.0          400.0\n",
      "4        5      Eve    300               900.0         -600.0\n",
      "5        6      Dan    100               500.0         -400.0\n",
      "6        7      Bob     60                70.0          -10.0\n",
      "7        8      Eve   1500               900.0          600.0\n"
     ]
    }
   ],
   "source": [
    "#Conpute for each order:How much above or below the customer's average order it was:\n",
    "df['Avg_Customer_Sales'] = df.groupby('Customer')['Sales'].transform('mean')\n",
    "df['Diff_From_Avg'] = df['Sales'] - df['Avg_Customer_Sales']\n",
    "print(df[['OrderID','Customer','Sales','Avg_Customer_Sales','Diff_From_Avg']])"
   ]
  },
  {
   "cell_type": "code",
   "execution_count": null,
   "metadata": {},
   "outputs": [],
   "source": []
  }
 ],
 "metadata": {
  "kernelspec": {
   "display_name": "Python 3",
   "language": "python",
   "name": "python3"
  },
  "language_info": {
   "codemirror_mode": {
    "name": "ipython",
    "version": 3
   },
   "file_extension": ".py",
   "mimetype": "text/x-python",
   "name": "python",
   "nbconvert_exporter": "python",
   "pygments_lexer": "ipython3",
   "version": "3.12.3"
  }
 },
 "nbformat": 4,
 "nbformat_minor": 2
}
