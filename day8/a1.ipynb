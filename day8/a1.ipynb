{
 "cells": [
  {
   "cell_type": "code",
   "execution_count": 1,
   "metadata": {},
   "outputs": [],
   "source": [
    "import pandas as pd"
   ]
  },
  {
   "cell_type": "code",
   "execution_count": 3,
   "metadata": {},
   "outputs": [],
   "source": [
    "data = {\n",
    "    'OrderID': [1, 2, 3, 4, 5, 6, 7, 8],\n",
    "    'Customer': ['Alice', 'Bob', 'Alice', 'Dan', 'Eve', 'Dan', 'Bob', 'Eve'],\n",
    "    'Category': ['Electronics', 'Apparel', 'Apparel', 'Electronics', 'Electronics', 'Apparel', 'Apparel', 'Electronics'],\n",
    "    'Quantity': [1, 2, 2, 1, 3, 4, 1, 1],\n",
    "    'Price': [1200, 40, 30, 900, 100, 25, 60, 1500],\n",
    "    'OrderDate': pd.to_datetime([\n",
    "        '2024-01-12', '2024-01-12', '2024-02-14', '2024-03-10', \n",
    "        '2024-03-21', '2024-04-05', '2024-04-07', '2024-05-22'\n",
    "    ])\n",
    "}"
   ]
  },
  {
   "cell_type": "code",
   "execution_count": 4,
   "metadata": {},
   "outputs": [],
   "source": [
    "df = pd.DataFrame(data)"
   ]
  },
  {
   "cell_type": "code",
   "execution_count": 6,
   "metadata": {},
   "outputs": [
    {
     "name": "stdout",
     "output_type": "stream",
     "text": [
      "             Total_Quantity  Average_Price  Num_Orders\n",
      "Category                                              \n",
      "Apparel                   9          38.75           4\n",
      "Electronics               6         925.00           4\n"
     ]
    }
   ],
   "source": [
    "result = df.groupby('Category').agg(\n",
    "    Total_Quantity=('Quantity', 'sum'),\n",
    "    Average_Price=('Price', 'mean'),\n",
    "    Num_Orders=('OrderID', 'count')\n",
    ")\n",
    "print(result)"
   ]
  },
  {
   "cell_type": "code",
   "execution_count": 9,
   "metadata": {},
   "outputs": [
    {
     "name": "stdout",
     "output_type": "stream",
     "text": [
      "Category  Apparel  Electronics\n",
      "Customer                      \n",
      "Alice          60         1200\n",
      "Bob           140            0\n",
      "Dan           100          900\n",
      "Eve             0         1800\n"
     ]
    }
   ],
   "source": [
    "df['Sales'] = df['Quantity'] * df['Price']\n",
    "result = df.groupby(['Customer','Category'])['Sales'].sum().unstack(fill_value=0)\n",
    "print(result)"
   ]
  },
  {
   "cell_type": "code",
   "execution_count": null,
   "metadata": {},
   "outputs": [
    {
     "name": "stdout",
     "output_type": "stream",
     "text": [
      "Customer\n",
      "Alice    1260\n",
      "Eve      1800\n",
      "Name: Sales, dtype: int64\n"
     ]
    }
   ],
   "source": [
    "#only show customers whose total purchase exceed by $1000usd\n",
    "customer_sales = df.groupby('Customer')['Sales'].sum()\n",
    "big_customer = customer_sales[customer_sales > 1000]\n",
    "print(big_customer)"
   ]
  }
 ],
 "metadata": {
  "kernelspec": {
   "display_name": "Python 3",
   "language": "python",
   "name": "python3"
  },
  "language_info": {
   "codemirror_mode": {
    "name": "ipython",
    "version": 3
   },
   "file_extension": ".py",
   "mimetype": "text/x-python",
   "name": "python",
   "nbconvert_exporter": "python",
   "pygments_lexer": "ipython3",
   "version": "3.12.3"
  }
 },
 "nbformat": 4,
 "nbformat_minor": 2
}
