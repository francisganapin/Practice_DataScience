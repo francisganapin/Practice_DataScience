{
 "cells": [
  {
   "cell_type": "code",
   "execution_count": 1,
   "metadata": {},
   "outputs": [],
   "source": [
    "import pandas as pd\n",
    "import numpy as np"
   ]
  },
  {
   "cell_type": "code",
   "execution_count": 2,
   "metadata": {},
   "outputs": [],
   "source": [
    "np.random.seed(42)\n",
    "dates = pd.date_range(start='2023-01-01',periods=180,freq='D')\n",
    "departments = ['Sales','Marketing','Finance','HR']\n",
    "city = ['Manila','Caloocan','Marikina','Pasig']"
   ]
  },
  {
   "cell_type": "code",
   "execution_count": 3,
   "metadata": {},
   "outputs": [],
   "source": [
    "data = {\n",
    "    'date':np.random.choice(dates,1000),\n",
    "    'employee_id':np.random.randint(1000,1100,1000),\n",
    "    'department':np.random.choice(departments,1000),\n",
    "    'city':np.random.choice(city,1000),\n",
    "    'sale':np.random.normal(loc=2000,scale=500,size=1000),\n",
    "    'bonus':np.random.normal(loc=200,scale=60,size=1000)\n",
    "}\n",
    "\n",
    "df = pd.DataFrame(data)"
   ]
  },
  {
   "cell_type": "code",
   "execution_count": 4,
   "metadata": {},
   "outputs": [],
   "source": [
    "#Make sure we have Clean Dates\n",
    "df['date'] = pd.to_datetime(df['date'])"
   ]
  },
  {
   "cell_type": "code",
   "execution_count": 5,
   "metadata": {},
   "outputs": [
    {
     "name": "stdout",
     "output_type": "stream",
     "text": [
      "        date  employee_id department      city         sale       bonus\n",
      "0 2023-01-01         1010    Finance  Caloocan  2636.029491  287.011558\n",
      "1 2023-01-01         1099         HR     Pasig  3336.755485  213.590519\n",
      "2 2023-01-01         1019  Marketing  Marikina  1529.677551  101.572319\n",
      "3 2023-01-01         1071      Sales     Pasig  1822.596325  255.284851\n",
      "4 2023-01-01         1093  Marketing     Pasig  2116.973726  190.938443\n"
     ]
    }
   ],
   "source": [
    "#Sort values for later time-series work\n",
    "df = df.sort_values('date').reset_index(drop=True)\n",
    "\n",
    "print(df.head())"
   ]
  },
  {
   "cell_type": "code",
   "execution_count": 7,
   "metadata": {},
   "outputs": [
    {
     "name": "stdout",
     "output_type": "stream",
     "text": [
      "                          date  employee_id         sale       bonus\n",
      "city     department                                                 \n",
      "Caloocan Finance    2023-01-01         1010  2636.029491  287.011558\n",
      "         Finance    2023-01-03         1032  2284.539630  268.324086\n",
      "         Finance    2023-01-08         1065  1719.532393  198.176871\n",
      "         Finance    2023-01-15         1094  1262.481401  242.161543\n",
      "         Finance    2023-01-15         1030  2268.195686  246.546033\n"
     ]
    }
   ],
   "source": [
    "#set Multi index\n",
    "df_multi = df.set_index(['city','department']).sort_index()\n",
    "print(df_multi.head())"
   ]
  },
  {
   "cell_type": "code",
   "execution_count": null,
   "metadata": {},
   "outputs": [],
   "source": [
    "#let's analyze average and bonus per region and department\n",
    "grouped = df.groupby(['city','department']).agg({\n",
    "    'sales':['mean','sum'],\n",
    "    'bonus':'mean',\n",
    "    'employee_id':'nunique'\n",
    "}).reset_index()\n",
    "\n",
    "grouped.columns = ['city','department','avg_sales','total_sales','']"
   ]
  }
 ],
 "metadata": {
  "kernelspec": {
   "display_name": "Python 3",
   "language": "python",
   "name": "python3"
  },
  "language_info": {
   "codemirror_mode": {
    "name": "ipython",
    "version": 3
   },
   "file_extension": ".py",
   "mimetype": "text/x-python",
   "name": "python",
   "nbconvert_exporter": "python",
   "pygments_lexer": "ipython3",
   "version": "3.12.3"
  }
 },
 "nbformat": 4,
 "nbformat_minor": 2
}
