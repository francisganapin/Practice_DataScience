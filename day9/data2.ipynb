{
 "cells": [
  {
   "cell_type": "code",
   "execution_count": 1,
   "metadata": {},
   "outputs": [
    {
     "name": "stdout",
     "output_type": "stream",
     "text": [
      "                         Open       Close  Volume\n",
      "Symbol Date                                      \n",
      "AAPL   2023-01-01  135.098190  123.404395    2374\n",
      "       2023-01-02  108.848042  156.092002    4643\n",
      "       2023-01-03  158.927056  134.710235    4959\n",
      "MSFT   2023-01-01  182.417133  184.656043    4610\n",
      "       2023-01-02  171.541516  153.930177    3581\n",
      "       2023-01-03  190.730099  130.397997    3541\n"
     ]
    }
   ],
   "source": [
    "import pandas as pd\n",
    "import numpy as np\n",
    "\n",
    "# Create a MultiIndex DataFrame with stock prices for symbols AAPL and MSFT over 3 days\n",
    "arrays = [\n",
    "    ['AAPL', 'AAPL', 'AAPL', 'MSFT', 'MSFT', 'MSFT'],\n",
    "    pd.date_range('2023-01-01', periods=3).tolist() * 2\n",
    "]\n",
    "index = pd.MultiIndex.from_arrays(arrays, names=('Symbol', 'Date'))\n",
    "\n",
    "data = {\n",
    "    'Open': np.random.uniform(100, 200, size=6),\n",
    "    'Close': np.random.uniform(100, 200, size=6),\n",
    "    'Volume': np.random.randint(1000, 5000, size=6)\n",
    "}\n",
    "\n",
    "df = pd.DataFrame(data, index=index)\n",
    "print(df)"
   ]
  },
  {
   "cell_type": "code",
   "execution_count": 2,
   "metadata": {},
   "outputs": [
    {
     "data": {
      "text/html": [
       "<div>\n",
       "<style scoped>\n",
       "    .dataframe tbody tr th:only-of-type {\n",
       "        vertical-align: middle;\n",
       "    }\n",
       "\n",
       "    .dataframe tbody tr th {\n",
       "        vertical-align: top;\n",
       "    }\n",
       "\n",
       "    .dataframe thead th {\n",
       "        text-align: right;\n",
       "    }\n",
       "</style>\n",
       "<table border=\"1\" class=\"dataframe\">\n",
       "  <thead>\n",
       "    <tr style=\"text-align: right;\">\n",
       "      <th></th>\n",
       "      <th>Open</th>\n",
       "      <th>Close</th>\n",
       "      <th>Volume</th>\n",
       "    </tr>\n",
       "    <tr>\n",
       "      <th>Date</th>\n",
       "      <th></th>\n",
       "      <th></th>\n",
       "      <th></th>\n",
       "    </tr>\n",
       "  </thead>\n",
       "  <tbody>\n",
       "    <tr>\n",
       "      <th>2023-01-01</th>\n",
       "      <td>135.098190</td>\n",
       "      <td>123.404395</td>\n",
       "      <td>2374</td>\n",
       "    </tr>\n",
       "    <tr>\n",
       "      <th>2023-01-02</th>\n",
       "      <td>108.848042</td>\n",
       "      <td>156.092002</td>\n",
       "      <td>4643</td>\n",
       "    </tr>\n",
       "    <tr>\n",
       "      <th>2023-01-03</th>\n",
       "      <td>158.927056</td>\n",
       "      <td>134.710235</td>\n",
       "      <td>4959</td>\n",
       "    </tr>\n",
       "  </tbody>\n",
       "</table>\n",
       "</div>"
      ],
      "text/plain": [
       "                  Open       Close  Volume\n",
       "Date                                      \n",
       "2023-01-01  135.098190  123.404395    2374\n",
       "2023-01-02  108.848042  156.092002    4643\n",
       "2023-01-03  158.927056  134.710235    4959"
      ]
     },
     "execution_count": 2,
     "metadata": {},
     "output_type": "execute_result"
    }
   ],
   "source": [
    "df.loc['AAPL']"
   ]
  },
  {
   "cell_type": "code",
   "execution_count": 3,
   "metadata": {},
   "outputs": [
    {
     "data": {
      "text/html": [
       "<div>\n",
       "<style scoped>\n",
       "    .dataframe tbody tr th:only-of-type {\n",
       "        vertical-align: middle;\n",
       "    }\n",
       "\n",
       "    .dataframe tbody tr th {\n",
       "        vertical-align: top;\n",
       "    }\n",
       "\n",
       "    .dataframe thead th {\n",
       "        text-align: right;\n",
       "    }\n",
       "</style>\n",
       "<table border=\"1\" class=\"dataframe\">\n",
       "  <thead>\n",
       "    <tr style=\"text-align: right;\">\n",
       "      <th></th>\n",
       "      <th>Open</th>\n",
       "      <th>Close</th>\n",
       "      <th>Volume</th>\n",
       "    </tr>\n",
       "    <tr>\n",
       "      <th>Symbol</th>\n",
       "      <th></th>\n",
       "      <th></th>\n",
       "      <th></th>\n",
       "    </tr>\n",
       "  </thead>\n",
       "  <tbody>\n",
       "    <tr>\n",
       "      <th>AAPL</th>\n",
       "      <td>108.848042</td>\n",
       "      <td>156.092002</td>\n",
       "      <td>4643</td>\n",
       "    </tr>\n",
       "    <tr>\n",
       "      <th>MSFT</th>\n",
       "      <td>171.541516</td>\n",
       "      <td>153.930177</td>\n",
       "      <td>3581</td>\n",
       "    </tr>\n",
       "  </tbody>\n",
       "</table>\n",
       "</div>"
      ],
      "text/plain": [
       "              Open       Close  Volume\n",
       "Symbol                                \n",
       "AAPL    108.848042  156.092002    4643\n",
       "MSFT    171.541516  153.930177    3581"
      ]
     },
     "execution_count": 3,
     "metadata": {},
     "output_type": "execute_result"
    }
   ],
   "source": [
    "df.xs('2023-01-02', level='Date')"
   ]
  },
  {
   "cell_type": "code",
   "execution_count": 4,
   "metadata": {},
   "outputs": [
    {
     "name": "stdout",
     "output_type": "stream",
     "text": [
      "Empty DataFrame\n",
      "Columns: [Open, Close, Volume]\n",
      "Index: []\n"
     ]
    }
   ],
   "source": [
    "threshold = 150\n",
    "\n",
    "# Filter rows where Open price > threshold and Volume is in a list\n",
    "volume_list = [2000, 3000, 4000]\n",
    "\n",
    "df_filtered = df.query('Open > @threshold and Volume in @volume_list')\n",
    "print(df_filtered)"
   ]
  },
  {
   "cell_type": "code",
   "execution_count": 5,
   "metadata": {},
   "outputs": [],
   "source": [
    "df = df.assign(DailyReturn=lambda x: (x['Close'] - x['Open']) / x['Open'])"
   ]
  },
  {
   "cell_type": "code",
   "execution_count": 6,
   "metadata": {},
   "outputs": [
    {
     "name": "stdout",
     "output_type": "stream",
     "text": [
      "                         Open       Close  Volume  DailyReturn\n",
      "Symbol Date                                                   \n",
      "AAPL   2023-01-01  135.098190  123.404395    2374    -0.086558\n",
      "       2023-01-02  108.848042  156.092002    4643     0.434036\n",
      "       2023-01-03  158.927056  134.710235    4959    -0.152377\n",
      "MSFT   2023-01-01  182.417133  184.656043    4610     0.012274\n",
      "       2023-01-02  171.541516  153.930177    3581    -0.102665\n",
      "       2023-01-03  190.730099  130.397997    3541    -0.316322\n"
     ]
    }
   ],
   "source": [
    "print(df)"
   ]
  },
  {
   "cell_type": "code",
   "execution_count": 8,
   "metadata": {},
   "outputs": [
    {
     "name": "stdout",
     "output_type": "stream",
     "text": [
      "           AvgOpen    MaxClose  TotalVolume  Volatility\n",
      "Symbol                                                 \n",
      "AAPL    134.291096  156.092002        11976    0.321255\n",
      "MSFT    181.562916  184.656043        11732    0.166751\n"
     ]
    }
   ],
   "source": [
    "agg_results = df.groupby('Symbol').agg(\n",
    "    AvgOpen=('Open','mean'),\n",
    "    MaxClose=('Close','max'),\n",
    "    TotalVolume=('Volume','sum'),\n",
    "    Volatility=('DailyReturn',lambda x: x.std())\n",
    ")\n",
    "print(agg_results)"
   ]
  }
 ],
 "metadata": {
  "kernelspec": {
   "display_name": "base",
   "language": "python",
   "name": "python3"
  },
  "language_info": {
   "codemirror_mode": {
    "name": "ipython",
    "version": 3
   },
   "file_extension": ".py",
   "mimetype": "text/x-python",
   "name": "python",
   "nbconvert_exporter": "python",
   "pygments_lexer": "ipython3",
   "version": "3.11.7"
  }
 },
 "nbformat": 4,
 "nbformat_minor": 2
}
