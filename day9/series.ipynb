{
 "cells": [
  {
   "cell_type": "code",
   "execution_count": 1,
   "metadata": {},
   "outputs": [],
   "source": [
    "import pandas as pd"
   ]
  },
  {
   "cell_type": "code",
   "execution_count": 2,
   "metadata": {},
   "outputs": [
    {
     "name": "stdout",
     "output_type": "stream",
     "text": [
      "a    10\n",
      "b    20\n",
      "c    30\n",
      "dtype: int64\n"
     ]
    }
   ],
   "source": [
    "s = pd.Series([10,20,30],index=['a','b','c'])\n",
    "print(s)"
   ]
  },
  {
   "cell_type": "code",
   "execution_count": 3,
   "metadata": {},
   "outputs": [
    {
     "name": "stdout",
     "output_type": "stream",
     "text": [
      "0    11\n",
      "1    12\n",
      "2    13\n",
      "dtype: int64\n",
      "0    2\n",
      "1    4\n",
      "2    6\n",
      "dtype: int64\n"
     ]
    }
   ],
   "source": [
    "s = pd.Series([1,2,3])\n",
    "print(s + 10)\n",
    "print(s * 2)"
   ]
  },
  {
   "cell_type": "code",
   "execution_count": 4,
   "metadata": {},
   "outputs": [
    {
     "name": "stdout",
     "output_type": "stream",
     "text": [
      "1    20\n",
      "2    30\n",
      "3    40\n",
      "dtype: int64\n"
     ]
    }
   ],
   "source": [
    "s = pd.Series([10,20,30,40])\n",
    "mask = s > 15\n",
    "print(s[mask])"
   ]
  },
  {
   "cell_type": "code",
   "execution_count": 5,
   "metadata": {},
   "outputs": [
    {
     "name": "stdout",
     "output_type": "stream",
     "text": [
      "2    30\n",
      "0    10\n",
      "dtype: int64\n"
     ]
    }
   ],
   "source": [
    "print(s[[2,0]])"
   ]
  },
  {
   "cell_type": "code",
   "execution_count": 6,
   "metadata": {},
   "outputs": [
    {
     "name": "stdout",
     "output_type": "stream",
     "text": [
      "0    1.000000\n",
      "1    2.000000\n",
      "2    2.333333\n",
      "3    4.000000\n",
      "dtype: float64\n"
     ]
    }
   ],
   "source": [
    "s = pd.Series([1,2,None,4])\n",
    "s = s.fillna(s.mean())\n",
    "print(s)"
   ]
  },
  {
   "cell_type": "code",
   "execution_count": 7,
   "metadata": {},
   "outputs": [
    {
     "name": "stdout",
     "output_type": "stream",
     "text": [
      "0    1\n",
      "1    4\n",
      "2    9\n",
      "dtype: int64\n",
      "0    a\n",
      "1    b\n",
      "2    c\n",
      "dtype: object\n"
     ]
    }
   ],
   "source": [
    "import numpy as np\n",
    "s = pd.Series([1,2,3])\n",
    "print(s.apply(lambda x: x**2))\n",
    "print(s.map({1:'a',2:'b',3:'c'}))"
   ]
  },
  {
   "cell_type": "code",
   "execution_count": 8,
   "metadata": {},
   "outputs": [
    {
     "name": "stdout",
     "output_type": "stream",
     "text": [
      "a    NaN\n",
      "b    6.0\n",
      "c    8.0\n",
      "d    NaN\n",
      "dtype: float64\n"
     ]
    }
   ],
   "source": [
    "s1 = pd.Series([1,2,3],index=['a','b','c'])\n",
    "s2 = pd.Series([4,5,6],index=['b','c','d'])\n",
    "print(s1+s2)"
   ]
  },
  {
   "cell_type": "code",
   "execution_count": 9,
   "metadata": {},
   "outputs": [
    {
     "name": "stdout",
     "output_type": "stream",
     "text": [
      "A  1    10\n",
      "   2    20\n",
      "B  1    30\n",
      "dtype: int64\n"
     ]
    }
   ],
   "source": [
    "index = pd.MultiIndex.from_tuples([('A',1),('A',2),('B',1)])\n",
    "s = pd.Series([10,20,30],index=index)\n",
    "print(s)"
   ]
  },
  {
   "cell_type": "code",
   "execution_count": 10,
   "metadata": {},
   "outputs": [
    {
     "name": "stdout",
     "output_type": "stream",
     "text": [
      "2    30\n",
      "dtype: int64\n",
      "1    10\n",
      "dtype: int64\n"
     ]
    }
   ],
   "source": [
    "s = pd.Series([20,10,30])\n",
    "print(s.nlargest(1))\n",
    "print(s.nsmallest(1))"
   ]
  },
  {
   "cell_type": "code",
   "execution_count": 11,
   "metadata": {},
   "outputs": [
    {
     "name": "stdout",
     "output_type": "stream",
     "text": [
      "0    NaN\n",
      "1    NaN\n",
      "2    2.0\n",
      "3    3.0\n",
      "4    4.0\n",
      "dtype: float64\n"
     ]
    }
   ],
   "source": [
    "s = pd.Series([1,2,3,4,5])\n",
    "print(s.rolling(window=3).mean())"
   ]
  },
  {
   "cell_type": "code",
   "execution_count": 12,
   "metadata": {},
   "outputs": [
    {
     "name": "stdout",
     "output_type": "stream",
     "text": [
      "0    A\n",
      "1    B\n",
      "2    C\n",
      "dtype: object\n"
     ]
    }
   ],
   "source": [
    "s = pd.Series(['a','b','c'])\n",
    "print(s.str.upper())"
   ]
  },
  {
   "cell_type": "code",
   "execution_count": 13,
   "metadata": {},
   "outputs": [
    {
     "name": "stdout",
     "output_type": "stream",
     "text": [
      "0    1\n",
      "1    2\n",
      "dtype: int32\n"
     ]
    }
   ],
   "source": [
    "s = pd.Series(['2020-01-01','2020-02-01'])\n",
    "s = pd.to_datetime(s)\n",
    "print(s.dt.month)"
   ]
  },
  {
   "cell_type": "code",
   "execution_count": 14,
   "metadata": {},
   "outputs": [
    {
     "name": "stdout",
     "output_type": "stream",
     "text": [
      "0    10.00\n",
      "1     1.35\n",
      "2     1.80\n",
      "dtype: float64\n"
     ]
    }
   ],
   "source": [
    "s = pd.Series([10,15,20])\n",
    "\n",
    "def discount(x):\n",
    "    return x * 0.09 if x > 12 else x\n",
    "\n",
    "\n",
    "print(s.apply(discount))"
   ]
  },
  {
   "cell_type": "code",
   "execution_count": 15,
   "metadata": {},
   "outputs": [
    {
     "name": "stdout",
     "output_type": "stream",
     "text": [
      "0    0\n",
      "1    1\n",
      "2    0\n",
      "3    2\n",
      "dtype: int64\n"
     ]
    }
   ],
   "source": [
    "status = pd.Series(['new','expired','new','pending'])\n",
    "status_map = {'new':0,'expired':1,'pending':2}\n",
    "status_numeric = status.map(status_map)\n",
    "print(status_numeric)"
   ]
  },
  {
   "cell_type": "code",
   "execution_count": 16,
   "metadata": {},
   "outputs": [
    {
     "name": "stdout",
     "output_type": "stream",
     "text": [
      "0     apple\n",
      "1    banana\n",
      "2     apple\n",
      "3    orange\n",
      "dtype: category\n",
      "Categories (3, object): ['apple', 'banana', 'orange']\n",
      "0    0\n",
      "1    1\n",
      "2    0\n",
      "3    2\n",
      "dtype: int8\n"
     ]
    }
   ],
   "source": [
    "s = pd.Series(['apple','banana','apple','orange'],dtype='category')\n",
    "print(s)\n",
    "print(s.cat.codes)"
   ]
  },
  {
   "cell_type": "code",
   "execution_count": 17,
   "metadata": {},
   "outputs": [
    {
     "name": "stdout",
     "output_type": "stream",
     "text": [
      "company  year\n",
      "A        2022    500\n",
      "         2023    600\n",
      "B        2022    450\n",
      "         2023    700\n",
      "dtype: int64\n",
      "year\n",
      "2022    500\n",
      "2023    600\n",
      "dtype: int64\n",
      "600\n"
     ]
    }
   ],
   "source": [
    "tuples = [('A',2022),('A',2023),('B',2022),('B',2023)]\n",
    "\n",
    "idx = pd.MultiIndex.from_tuples(tuples,names=['company','year'])\n",
    "sales = pd.Series([500,600,450,700],index=idx)\n",
    "print(sales)\n",
    "\n",
    "\n",
    "print(sales['A'])\n",
    "\n",
    "print(sales.loc[('A',2023)])"
   ]
  },
  {
   "cell_type": "code",
   "execution_count": 18,
   "metadata": {},
   "outputs": [
    {
     "name": "stdout",
     "output_type": "stream",
     "text": [
      "a    15.0\n",
      "b    35.0\n",
      "dtype: float64\n"
     ]
    }
   ],
   "source": [
    "s = pd.Series([10,20,30,40],index=['a','a','b','b'])\n",
    "grouped = s.groupby(level=0)\n",
    "print(grouped.mean())"
   ]
  },
  {
   "cell_type": "code",
   "execution_count": 19,
   "metadata": {},
   "outputs": [
    {
     "name": "stdout",
     "output_type": "stream",
     "text": [
      "a   -5.0\n",
      "a    5.0\n",
      "b   -5.0\n",
      "b    5.0\n",
      "dtype: float64\n"
     ]
    }
   ],
   "source": [
    "print(grouped.transform(lambda x: x - x.mean()))"
   ]
  },
  {
   "cell_type": "code",
   "execution_count": 20,
   "metadata": {},
   "outputs": [
    {
     "name": "stdout",
     "output_type": "stream",
     "text": [
      "b    30\n",
      "b    40\n",
      "dtype: int64\n"
     ]
    }
   ],
   "source": [
    "print(grouped.filter(lambda x: x.mean() > 20))"
   ]
  },
  {
   "cell_type": "code",
   "execution_count": 21,
   "metadata": {},
   "outputs": [
    {
     "name": "stdout",
     "output_type": "stream",
     "text": [
      "red      2\n",
      "blue     1\n",
      "green    1\n",
      "Name: count, dtype: int64\n",
      "['red' 'blue' 'green']\n",
      "0    red\n",
      "dtype: object\n"
     ]
    }
   ],
   "source": [
    "s = pd.Series(['red','blue','red','green'])\n",
    "print(s.value_counts())\n",
    "print(s.unique())\n",
    "print(s.mode())"
   ]
  },
  {
   "cell_type": "code",
   "execution_count": 22,
   "metadata": {},
   "outputs": [
    {
     "name": "stdout",
     "output_type": "stream",
     "text": [
      "0     1\n",
      "1     5\n",
      "2    10\n",
      "3    10\n",
      "dtype: int64\n",
      "(34, 60]    3\n",
      "(0, 18]     1\n",
      "(18, 34]    1\n",
      "Name: count, dtype: int64\n"
     ]
    }
   ],
   "source": [
    "s = pd.Series([1,5,10,50])\n",
    "print(s.clip(0,10))\n",
    "\n",
    "ages = pd.Series([15,25,35,45,60])\n",
    "bins = pd.cut(ages,bins=[0,18,34,60])\n",
    "\n",
    "print(bins.value_counts())"
   ]
  },
  {
   "cell_type": "code",
   "execution_count": 23,
   "metadata": {},
   "outputs": [
    {
     "name": "stdout",
     "output_type": "stream",
     "text": [
      "a    1.0\n",
      "b    6.0\n",
      "c    8.0\n",
      "d    6.0\n",
      "dtype: float64\n"
     ]
    }
   ],
   "source": [
    "s1 = pd.Series([1,2,3],index=['a','b','c'])\n",
    "s2 = pd.Series([4,5,6],index=['b','c','d'])\n",
    "\n",
    "\n",
    "print(s1.add(s2,fill_value=0))"
   ]
  },
  {
   "cell_type": "code",
   "execution_count": 24,
   "metadata": {},
   "outputs": [
    {
     "name": "stdout",
     "output_type": "stream",
     "text": [
      "0    NaN\n",
      "1    NaN\n",
      "2    2.0\n",
      "3    3.0\n",
      "4    4.0\n",
      "dtype: float64\n",
      "0    1.0\n",
      "1    1.5\n",
      "2    2.0\n",
      "3    2.5\n",
      "4    3.0\n",
      "dtype: float64\n"
     ]
    }
   ],
   "source": [
    "s = pd.Series([1,2,3,4,5])\n",
    "\n",
    "print(s.rolling(window=3).mean())\n",
    "\n",
    "print(s.expanding().mean())"
   ]
  },
  {
   "cell_type": "code",
   "execution_count": 25,
   "metadata": {},
   "outputs": [
    {
     "name": "stdout",
     "output_type": "stream",
     "text": [
      "min       2.0\n",
      "max       9.0\n",
      "median    4.5\n",
      "dtype: float64\n",
      "minimum     2\n",
      "maximum     9\n",
      "sum        20\n",
      "dtype: int64\n"
     ]
    }
   ],
   "source": [
    "s = pd.Series([5,2,9,4])\n",
    "print(s.agg(['min','max','median']))\n",
    "print(s.agg({'minimum':'min','maximum':'max','sum':'sum'}))"
   ]
  },
  {
   "cell_type": "code",
   "execution_count": 26,
   "metadata": {},
   "outputs": [
    {
     "name": "stdout",
     "output_type": "stream",
     "text": [
      "(0    3\n",
      "1    4\n",
      "2    5\n",
      "dtype: int64, 0    1\n",
      "1    4\n",
      "2    9\n",
      "dtype: int64)\n"
     ]
    }
   ],
   "source": [
    "def add_two(x):\n",
    "    return x + 2\n",
    "\n",
    "def square(x):\n",
    "    return x ** 2\n",
    "\n",
    "s = pd.Series([1,2,3])\n",
    "\n",
    "result = (s.pipe(add_two),s.pipe(square))\n",
    "print(result)"
   ]
  },
  {
   "cell_type": "code",
   "execution_count": 27,
   "metadata": {},
   "outputs": [
    {
     "name": "stdout",
     "output_type": "stream",
     "text": [
      "65132\n",
      "1305\n"
     ]
    }
   ],
   "source": [
    "s = pd.Series(['category'] * 1000)\n",
    "print(s.memory_usage(deep=True))\n",
    "\n",
    "s = s.astype('category')\n",
    "print(s.memory_usage(deep=True))"
   ]
  },
  {
   "cell_type": "code",
   "execution_count": 28,
   "metadata": {},
   "outputs": [
    {
     "name": "stdout",
     "output_type": "stream",
     "text": [
      "0    10.0\n",
      "1    13.5\n",
      "2    18.0\n",
      "dtype: float64\n",
      "0    0\n",
      "1    1\n",
      "2    0\n",
      "3    2\n",
      "dtype: int64\n",
      "{'new': 0, 'expired': 1, 'pending': 2}\n"
     ]
    }
   ],
   "source": [
    "s = pd.Series([10,15,20])\n",
    "\n",
    "def discount(x):\n",
    "    return x * 0.9 if x > 12 else x\n",
    "\n",
    "print(s.apply(discount))\n",
    "\n",
    "status = pd.Series(['new','expired','new','pending'])\n",
    "status_map = {'new':0,'expired':1,'pending':2}\n",
    "status_numeric = status.map(status_map)\n",
    "print(status_numeric)\n",
    "print(status_map)"
   ]
  },
  {
   "cell_type": "code",
   "execution_count": 29,
   "metadata": {},
   "outputs": [
    {
     "name": "stdout",
     "output_type": "stream",
     "text": [
      "0     apple\n",
      "1    banana\n",
      "2     apple\n",
      "3    orange\n",
      "dtype: category\n",
      "Categories (3, object): ['apple', 'banana', 'orange']\n",
      "0    0\n",
      "1    1\n",
      "2    0\n",
      "3    2\n",
      "dtype: int8\n"
     ]
    }
   ],
   "source": [
    "s = pd.Series(['apple','banana','apple','orange'],dtype='category')\n",
    "print(s)\n",
    "print(s.cat.codes)"
   ]
  },
  {
   "cell_type": "code",
   "execution_count": 30,
   "metadata": {},
   "outputs": [
    {
     "name": "stdout",
     "output_type": "stream",
     "text": [
      "a    15.0\n",
      "b    35.0\n",
      "dtype: float64\n"
     ]
    }
   ],
   "source": [
    "s = pd.Series([10,20,30,40],index=['a','a','b','b'])\n",
    "grouped = s.groupby(level=0)\n",
    "print(grouped.mean())"
   ]
  },
  {
   "cell_type": "code",
   "execution_count": 31,
   "metadata": {},
   "outputs": [
    {
     "name": "stdout",
     "output_type": "stream",
     "text": [
      "red      2\n",
      "blue     1\n",
      "green    1\n",
      "Name: count, dtype: int64\n",
      "['red' 'blue' 'green']\n",
      "0    red\n",
      "dtype: object\n"
     ]
    }
   ],
   "source": [
    "s = pd.Series(['red','blue','red','green'])\n",
    "print(s.value_counts())\n",
    "print(s.unique())\n",
    "print(s.mode())"
   ]
  },
  {
   "cell_type": "code",
   "execution_count": 32,
   "metadata": {},
   "outputs": [
    {
     "name": "stdout",
     "output_type": "stream",
     "text": [
      "0     1\n",
      "1     5\n",
      "2    10\n",
      "3    10\n",
      "dtype: int64\n",
      "(18, 35]    2\n",
      "(35, 60]    2\n",
      "(0, 18]     1\n",
      "Name: count, dtype: int64\n"
     ]
    }
   ],
   "source": [
    "s = pd.Series([1,5,10,50])\n",
    "print(s.clip(0,10))\n",
    "\n",
    "\n",
    "ages = pd.Series([15,25,35,45,60])\n",
    "bins = pd.cut(ages,bins=[0,18,35,60])\n",
    "print(bins.value_counts())"
   ]
  },
  {
   "cell_type": "code",
   "execution_count": 33,
   "metadata": {},
   "outputs": [
    {
     "name": "stdout",
     "output_type": "stream",
     "text": [
      "    name  score\n",
      "0  Alice     85\n",
      "2  Carol     70\n"
     ]
    }
   ],
   "source": [
    "df = pd.DataFrame({\n",
    "    'name':['Alice','Bob','Carol'],\n",
    "    'score':[85,60,70]\n",
    "})\n",
    "\n",
    "mask = df['score'] > 65\n",
    "print(df[mask])"
   ]
  },
  {
   "cell_type": "code",
   "execution_count": 34,
   "metadata": {},
   "outputs": [
    {
     "name": "stdout",
     "output_type": "stream",
     "text": [
      "0    7\n",
      "1    8\n",
      "2    9\n",
      "dtype: int64\n"
     ]
    }
   ],
   "source": [
    "def adder(x,n):\n",
    "    return x + n\n",
    "\n",
    "s = pd.Series([1,2,3])\n",
    "print(s.apply(adder,args=(6,)))"
   ]
  },
  {
   "cell_type": "code",
   "execution_count": 35,
   "metadata": {},
   "outputs": [],
   "source": [
    "sales = pd.Series([520,430,480,620,590],\n",
    "                  index=pd.date_range('2024-07-01',periods=5))"
   ]
  },
  {
   "cell_type": "code",
   "execution_count": 36,
   "metadata": {},
   "outputs": [
    {
     "name": "stdout",
     "output_type": "stream",
     "text": [
      "2024-07-01    520\n",
      "2024-07-02    430\n",
      "2024-07-03    480\n",
      "2024-07-04    620\n",
      "2024-07-05    590\n",
      "Freq: D, dtype: int64\n"
     ]
    }
   ],
   "source": [
    "print(sales)"
   ]
  },
  {
   "cell_type": "code",
   "execution_count": 37,
   "metadata": {},
   "outputs": [
    {
     "name": "stdout",
     "output_type": "stream",
     "text": [
      "Total sales: 2640\n",
      "Average sales 528.0\n",
      "Day with highest sales: 2024-07-04 00:00:00 = 620\n",
      "Day with lowest sales: 2024-07-02 00:00:00 = 430\n"
     ]
    }
   ],
   "source": [
    "print('Total sales:',sales.sum())\n",
    "print('Average sales',sales.mean())\n",
    "print('Day with highest sales:',sales.idxmax(),'=',sales.max())\n",
    "print('Day with lowest sales:',sales.idxmin(),'=',sales.min())"
   ]
  },
  {
   "cell_type": "code",
   "execution_count": 38,
   "metadata": {},
   "outputs": [
    {
     "name": "stdout",
     "output_type": "stream",
     "text": [
      "Below-average sales days:\n",
      " 2024-07-01    520\n",
      "2024-07-02    430\n",
      "2024-07-03    480\n",
      "Freq: D, dtype: int64\n"
     ]
    }
   ],
   "source": [
    "below_avg = sales[sales < sales.mean()]\n",
    "print('Below-average sales days:\\n',below_avg)"
   ]
  },
  {
   "cell_type": "code",
   "execution_count": 39,
   "metadata": {},
   "outputs": [],
   "source": [
    "product_a = pd.Series([200, 190, 220, 260, 210],\n",
    "                      index=sales.index)\n",
    "product_b = pd.Series([320, 240, 260, 360, 380],\n",
    "                      index=sales.index)"
   ]
  },
  {
   "cell_type": "code",
   "execution_count": 40,
   "metadata": {},
   "outputs": [],
   "source": [
    "total_sales = product_a + product_b"
   ]
  },
  {
   "cell_type": "code",
   "execution_count": 41,
   "metadata": {},
   "outputs": [
    {
     "name": "stdout",
     "output_type": "stream",
     "text": [
      "Total sales by day:\n",
      " 2024-07-01    520\n",
      "2024-07-02    430\n",
      "2024-07-03    480\n",
      "2024-07-04    620\n",
      "2024-07-05    590\n",
      "Freq: D, dtype: int64\n"
     ]
    }
   ],
   "source": [
    "print('Total sales by day:\\n',total_sales)"
   ]
  },
  {
   "cell_type": "code",
   "execution_count": 42,
   "metadata": {},
   "outputs": [],
   "source": [
    "growth = total_sales.pct_change().fillna(0)"
   ]
  },
  {
   "cell_type": "code",
   "execution_count": 43,
   "metadata": {},
   "outputs": [
    {
     "name": "stdout",
     "output_type": "stream",
     "text": [
      "Percent change:\n",
      " 2024-07-01    0.000000\n",
      "2024-07-02   -0.173077\n",
      "2024-07-03    0.116279\n",
      "2024-07-04    0.291667\n",
      "2024-07-05   -0.048387\n",
      "Freq: D, dtype: float64\n"
     ]
    }
   ],
   "source": [
    "print('Percent change:\\n',growth)"
   ]
  },
  {
   "cell_type": "code",
   "execution_count": 44,
   "metadata": {},
   "outputs": [
    {
     "name": "stdout",
     "output_type": "stream",
     "text": [
      "3-day moving average:\n",
      " 2024-07-01           NaN\n",
      "2024-07-02           NaN\n",
      "2024-07-03    476.666667\n",
      "2024-07-04    510.000000\n",
      "2024-07-05    563.333333\n",
      "Freq: D, dtype: float64\n"
     ]
    }
   ],
   "source": [
    "mov_avg = total_sales.rolling(window=3).mean()\n",
    "print('3-day moving average:\\n',mov_avg)"
   ]
  },
  {
   "cell_type": "code",
   "execution_count": 45,
   "metadata": {},
   "outputs": [
    {
     "name": "stdout",
     "output_type": "stream",
     "text": [
      "Sales outliers days:\n",
      " Series([], Freq: D, dtype: int64)\n"
     ]
    }
   ],
   "source": [
    "mean = total_sales.mean()\n",
    "std = total_sales.std()\n",
    "outlier = total_sales[total_sales > mean + 1.5 * std]\n",
    "print('Sales outliers days:\\n',outlier)"
   ]
  },
  {
   "cell_type": "code",
   "execution_count": 46,
   "metadata": {},
   "outputs": [
    {
     "name": "stdout",
     "output_type": "stream",
     "text": [
      "Sales level per day:\n",
      " 2024-07-01      High\n",
      "2024-07-02    Medium\n",
      "2024-07-03    Medium\n",
      "2024-07-04      High\n",
      "2024-07-05      High\n",
      "Freq: D, dtype: category\n",
      "Categories (3, object): ['Low' < 'Medium' < 'High']\n"
     ]
    }
   ],
   "source": [
    "bins = [0,400,500,700]\n",
    "labels = ['Low','Medium','High']\n",
    "sales_levels = pd.cut(total_sales,bins=bins,labels=labels)\n",
    "print('Sales level per day:\\n',sales_levels)"
   ]
  },
  {
   "cell_type": "code",
   "execution_count": 47,
   "metadata": {},
   "outputs": [],
   "source": [
    "df = pd.DataFrame({\n",
    "    'product_a'\n",
    "})"
   ]
  },
  {
   "cell_type": "code",
   "execution_count": 48,
   "metadata": {},
   "outputs": [],
   "source": [
    "\n",
    "\n",
    "df = pd.DataFrame({\n",
    "    'name':['Anna','Bob','Chirs','Pogi'],\n",
    "    'age':[23,34,33,17]\n",
    "})"
   ]
  },
  {
   "cell_type": "code",
   "execution_count": 49,
   "metadata": {},
   "outputs": [
    {
     "data": {
      "text/html": [
       "<div>\n",
       "<style scoped>\n",
       "    .dataframe tbody tr th:only-of-type {\n",
       "        vertical-align: middle;\n",
       "    }\n",
       "\n",
       "    .dataframe tbody tr th {\n",
       "        vertical-align: top;\n",
       "    }\n",
       "\n",
       "    .dataframe thead th {\n",
       "        text-align: right;\n",
       "    }\n",
       "</style>\n",
       "<table border=\"1\" class=\"dataframe\">\n",
       "  <thead>\n",
       "    <tr style=\"text-align: right;\">\n",
       "      <th></th>\n",
       "      <th>name</th>\n",
       "      <th>age</th>\n",
       "    </tr>\n",
       "  </thead>\n",
       "  <tbody>\n",
       "    <tr>\n",
       "      <th>1</th>\n",
       "      <td>Bob</td>\n",
       "      <td>34</td>\n",
       "    </tr>\n",
       "    <tr>\n",
       "      <th>2</th>\n",
       "      <td>Chirs</td>\n",
       "      <td>33</td>\n",
       "    </tr>\n",
       "  </tbody>\n",
       "</table>\n",
       "</div>"
      ],
      "text/plain": [
       "    name  age\n",
       "1    Bob   34\n",
       "2  Chirs   33"
      ]
     },
     "execution_count": 49,
     "metadata": {},
     "output_type": "execute_result"
    }
   ],
   "source": [
    "df[df['age'] > 30]"
   ]
  },
  {
   "cell_type": "code",
   "execution_count": 50,
   "metadata": {},
   "outputs": [
    {
     "ename": "KeyError",
     "evalue": "'birth_year'",
     "output_type": "error",
     "traceback": [
      "\u001b[1;31m---------------------------------------------------------------------------\u001b[0m",
      "\u001b[1;31mKeyError\u001b[0m                                  Traceback (most recent call last)",
      "File \u001b[1;32mc:\\Users\\francis\\anaconda3\\Lib\\site-packages\\pandas\\core\\indexes\\base.py:3791\u001b[0m, in \u001b[0;36mIndex.get_loc\u001b[1;34m(self, key)\u001b[0m\n\u001b[0;32m   3790\u001b[0m \u001b[38;5;28;01mtry\u001b[39;00m:\n\u001b[1;32m-> 3791\u001b[0m     \u001b[38;5;28;01mreturn\u001b[39;00m \u001b[38;5;28mself\u001b[39m\u001b[38;5;241m.\u001b[39m_engine\u001b[38;5;241m.\u001b[39mget_loc(casted_key)\n\u001b[0;32m   3792\u001b[0m \u001b[38;5;28;01mexcept\u001b[39;00m \u001b[38;5;167;01mKeyError\u001b[39;00m \u001b[38;5;28;01mas\u001b[39;00m err:\n",
      "File \u001b[1;32mindex.pyx:152\u001b[0m, in \u001b[0;36mpandas._libs.index.IndexEngine.get_loc\u001b[1;34m()\u001b[0m\n",
      "File \u001b[1;32mindex.pyx:181\u001b[0m, in \u001b[0;36mpandas._libs.index.IndexEngine.get_loc\u001b[1;34m()\u001b[0m\n",
      "File \u001b[1;32mpandas\\_libs\\hashtable_class_helper.pxi:7080\u001b[0m, in \u001b[0;36mpandas._libs.hashtable.PyObjectHashTable.get_item\u001b[1;34m()\u001b[0m\n",
      "File \u001b[1;32mpandas\\_libs\\hashtable_class_helper.pxi:7088\u001b[0m, in \u001b[0;36mpandas._libs.hashtable.PyObjectHashTable.get_item\u001b[1;34m()\u001b[0m\n",
      "\u001b[1;31mKeyError\u001b[0m: 'birth_year'",
      "\nThe above exception was the direct cause of the following exception:\n",
      "\u001b[1;31mKeyError\u001b[0m                                  Traceback (most recent call last)",
      "Cell \u001b[1;32mIn[50], line 1\u001b[0m\n\u001b[1;32m----> 1\u001b[0m df[\u001b[38;5;124m'\u001b[39m\u001b[38;5;124mage\u001b[39m\u001b[38;5;124m'\u001b[39m] \u001b[38;5;241m=\u001b[39m \u001b[38;5;241m2024\u001b[39m \u001b[38;5;241m-\u001b[39m df[\u001b[38;5;124m'\u001b[39m\u001b[38;5;124mbirth_year\u001b[39m\u001b[38;5;124m'\u001b[39m]\n",
      "File \u001b[1;32mc:\\Users\\francis\\anaconda3\\Lib\\site-packages\\pandas\\core\\frame.py:3893\u001b[0m, in \u001b[0;36mDataFrame.__getitem__\u001b[1;34m(self, key)\u001b[0m\n\u001b[0;32m   3891\u001b[0m \u001b[38;5;28;01mif\u001b[39;00m \u001b[38;5;28mself\u001b[39m\u001b[38;5;241m.\u001b[39mcolumns\u001b[38;5;241m.\u001b[39mnlevels \u001b[38;5;241m>\u001b[39m \u001b[38;5;241m1\u001b[39m:\n\u001b[0;32m   3892\u001b[0m     \u001b[38;5;28;01mreturn\u001b[39;00m \u001b[38;5;28mself\u001b[39m\u001b[38;5;241m.\u001b[39m_getitem_multilevel(key)\n\u001b[1;32m-> 3893\u001b[0m indexer \u001b[38;5;241m=\u001b[39m \u001b[38;5;28mself\u001b[39m\u001b[38;5;241m.\u001b[39mcolumns\u001b[38;5;241m.\u001b[39mget_loc(key)\n\u001b[0;32m   3894\u001b[0m \u001b[38;5;28;01mif\u001b[39;00m is_integer(indexer):\n\u001b[0;32m   3895\u001b[0m     indexer \u001b[38;5;241m=\u001b[39m [indexer]\n",
      "File \u001b[1;32mc:\\Users\\francis\\anaconda3\\Lib\\site-packages\\pandas\\core\\indexes\\base.py:3798\u001b[0m, in \u001b[0;36mIndex.get_loc\u001b[1;34m(self, key)\u001b[0m\n\u001b[0;32m   3793\u001b[0m     \u001b[38;5;28;01mif\u001b[39;00m \u001b[38;5;28misinstance\u001b[39m(casted_key, \u001b[38;5;28mslice\u001b[39m) \u001b[38;5;129;01mor\u001b[39;00m (\n\u001b[0;32m   3794\u001b[0m         \u001b[38;5;28misinstance\u001b[39m(casted_key, abc\u001b[38;5;241m.\u001b[39mIterable)\n\u001b[0;32m   3795\u001b[0m         \u001b[38;5;129;01mand\u001b[39;00m \u001b[38;5;28many\u001b[39m(\u001b[38;5;28misinstance\u001b[39m(x, \u001b[38;5;28mslice\u001b[39m) \u001b[38;5;28;01mfor\u001b[39;00m x \u001b[38;5;129;01min\u001b[39;00m casted_key)\n\u001b[0;32m   3796\u001b[0m     ):\n\u001b[0;32m   3797\u001b[0m         \u001b[38;5;28;01mraise\u001b[39;00m InvalidIndexError(key)\n\u001b[1;32m-> 3798\u001b[0m     \u001b[38;5;28;01mraise\u001b[39;00m \u001b[38;5;167;01mKeyError\u001b[39;00m(key) \u001b[38;5;28;01mfrom\u001b[39;00m \u001b[38;5;21;01merr\u001b[39;00m\n\u001b[0;32m   3799\u001b[0m \u001b[38;5;28;01mexcept\u001b[39;00m \u001b[38;5;167;01mTypeError\u001b[39;00m:\n\u001b[0;32m   3800\u001b[0m     \u001b[38;5;66;03m# If we have a listlike key, _check_indexing_error will raise\u001b[39;00m\n\u001b[0;32m   3801\u001b[0m     \u001b[38;5;66;03m#  InvalidIndexError. Otherwise we fall through and re-raise\u001b[39;00m\n\u001b[0;32m   3802\u001b[0m     \u001b[38;5;66;03m#  the TypeError.\u001b[39;00m\n\u001b[0;32m   3803\u001b[0m     \u001b[38;5;28mself\u001b[39m\u001b[38;5;241m.\u001b[39m_check_indexing_error(key)\n",
      "\u001b[1;31mKeyError\u001b[0m: 'birth_year'"
     ]
    }
   ],
   "source": [
    "df['age'] = 2024 - df['birth_year']"
   ]
  },
  {
   "cell_type": "code",
   "execution_count": null,
   "metadata": {},
   "outputs": [],
   "source": [
    "df['is_adult'] = df['age'] >= 18\n"
   ]
  },
  {
   "cell_type": "code",
   "execution_count": null,
   "metadata": {},
   "outputs": [
    {
     "name": "stdout",
     "output_type": "stream",
     "text": [
      "    name  age  is_adult\n",
      "0   Anna   23      True\n",
      "1    Bob   34      True\n",
      "2  Chirs   33      True\n",
      "3   Pogi   17     False\n"
     ]
    }
   ],
   "source": [
    "print(df)"
   ]
  },
  {
   "cell_type": "code",
   "execution_count": null,
   "metadata": {},
   "outputs": [],
   "source": [
    "tickets = [\n",
    "    {'id': 1, 'priority': 'high', 'customer_tier': 'gold', 'category': 'billing', 'created_hour': 10, 'resolved': True, 'resolution_time_hours': 2},\n",
    "    {'id': 2, 'priority': 'low', 'customer_tier': 'silver', 'category': 'technical', 'created_hour': 15, 'resolved': True, 'resolution_time_hours': 20},\n",
    "    {'id': 3, 'priority': 'medium', 'customer_tier': 'gold', 'category': 'billing', 'created_hour': 8, 'resolved': True, 'resolution_time_hours': 5},\n",
    "    {'id': 4, 'priority': 'high', 'customer_tier': 'bronze', 'category': 'account', 'created_hour': 22, 'resolved': False, 'resolution_time_hours': None},\n",
    "    # ... more tickets\n",
    "]"
   ]
  },
  {
   "cell_type": "code",
   "execution_count": null,
   "metadata": {},
   "outputs": [
    {
     "name": "stdout",
     "output_type": "stream",
     "text": [
      "   id priority customer_tier   category  created_hour  resolved  \\\n",
      "0   1     high          gold    billing            10      True   \n",
      "1   2      low        silver  technical            15      True   \n",
      "2   3   medium          gold    billing             8      True   \n",
      "3   4     high        bronze    account            22     False   \n",
      "\n",
      "   resolution_time_hours  \n",
      "0                    2.0  \n",
      "1                   20.0  \n",
      "2                    5.0  \n",
      "3                    NaN  \n"
     ]
    }
   ],
   "source": [
    "df = pd.DataFrame(tickets)\n",
    "print(df.head())"
   ]
  },
  {
   "cell_type": "code",
   "execution_count": null,
   "metadata": {},
   "outputs": [
    {
     "name": "stdout",
     "output_type": "stream",
     "text": [
      "count     3.000000\n",
      "mean      9.000000\n",
      "std       9.643651\n",
      "min       2.000000\n",
      "25%       3.500000\n",
      "50%       5.000000\n",
      "75%      12.500000\n",
      "max      20.000000\n",
      "Name: resolution_time_hours, dtype: float64\n"
     ]
    }
   ],
   "source": [
    "print(df['resolution_time_hours'].describe())"
   ]
  },
  {
   "cell_type": "code",
   "execution_count": null,
   "metadata": {},
   "outputs": [
    {
     "name": "stdout",
     "output_type": "stream",
     "text": [
      "priority\n",
      "high       2.0\n",
      "low       20.0\n",
      "medium     5.0\n",
      "Name: resolution_time_hours, dtype: float64\n"
     ]
    }
   ],
   "source": [
    "print(df.groupby('priority')['resolution_time_hours'].mean())"
   ]
  },
  {
   "cell_type": "code",
   "execution_count": null,
   "metadata": {},
   "outputs": [],
   "source": [
    "df['is_high_priority'] = df['priority'] == 'high'\n",
    "df['created_at_night'] = df['created_hour'].apply(lambda x: x >= 20 or x < 6)"
   ]
  },
  {
   "cell_type": "code",
   "execution_count": null,
   "metadata": {},
   "outputs": [
    {
     "name": "stdout",
     "output_type": "stream",
     "text": [
      "   id priority customer_tier   category  created_hour  resolved  \\\n",
      "0   1     high          gold    billing            10      True   \n",
      "1   2      low        silver  technical            15      True   \n",
      "2   3   medium          gold    billing             8      True   \n",
      "3   4     high        bronze    account            22     False   \n",
      "\n",
      "   resolution_time_hours  is_high_priority  created_at_night  \n",
      "0                    2.0              True             False  \n",
      "1                   20.0             False             False  \n",
      "2                    5.0             False             False  \n",
      "3                    NaN              True              True  \n"
     ]
    }
   ],
   "source": [
    "print(df)"
   ]
  },
  {
   "cell_type": "code",
   "execution_count": null,
   "metadata": {},
   "outputs": [],
   "source": [
    "from sklearn.linear_model import LinearRegression\n",
    "from sklearn.model_selection import train_test_split\n",
    "\n",
    "train_df = df[df['resolved']]\n",
    "\n",
    "X = pd.get_dummies(train_df[['priority','customer_tier','category','created_at_night']],drop_first=True)\n",
    "y = train_df['resolution_time_hours']\n",
    "\n",
    "\n",
    "X_train, X_test, y_train,y_test = train_test_split(X,y,test_size=0.2,random_state=42)"
   ]
  },
  {
   "cell_type": "code",
   "execution_count": null,
   "metadata": {},
   "outputs": [],
   "source": [
    "model = LinearRegression()\n",
    "model.fit(X_train,y_train)\n",
    "preds = model.predict(X_test)"
   ]
  },
  {
   "cell_type": "code",
   "execution_count": null,
   "metadata": {},
   "outputs": [
    {
     "name": "stdout",
     "output_type": "stream",
     "text": [
      "{'priority': 'high', 'customer_tier': 'gold', 'category': 'billing', 'created_hour': 11}\n"
     ]
    }
   ],
   "source": [
    "input_features = pd.get_dummies(new_ticket_df[['priority', 'customer_tier', 'category', 'created_at_night']], drop_first=True)\n",
    "\n",
    "# There may be missing columns compared to X_train (if, e.g., 'bronze' missing), so align:\n",
    "input_features = input_features.reindex(columns=X_train.columns, fill_value=0)\n",
    "\n",
    "# Step 4: Make the prediction\n",
    "predicted_resolution_time = model.predict(input_features)[0]\n",
    "print(f\"Predicted resolution time: {predicted_resolution_time:.2f} hours\")"
   ]
  },
  {
   "cell_type": "code",
   "execution_count": 51,
   "metadata": {},
   "outputs": [],
   "source": [
    "data = [\n",
    "    {'priority': 'high', 'customer_tier': 'gold', 'category': 'billing', 'created_hour': 10, 'resolution_time_hours': 2},\n",
    "    {'priority': 'low', 'customer_tier': 'silver', 'category': 'technical', 'created_hour': 15, 'resolution_time_hours': 20},\n",
    "    {'priority': 'medium', 'customer_tier': 'gold', 'category': 'billing', 'created_hour': 8, 'resolution_time_hours': 5},\n",
    "    {'priority': 'high', 'customer_tier': 'bronze', 'category': 'account', 'created_hour': 22, 'resolution_time_hours': 7},\n",
    "    # ...add more rows for realism\n",
    "]\n",
    "\n",
    "import pandas as pd\n",
    "\n",
    "df = pd.DataFrame(data)"
   ]
  },
  {
   "cell_type": "code",
   "execution_count": 54,
   "metadata": {},
   "outputs": [
    {
     "name": "stdout",
     "output_type": "stream",
     "text": [
      "['priority', 'customer_tier', 'category']\n"
     ]
    }
   ],
   "source": [
    "from sklearn.preprocessing import OneHotEncoder\n",
    "\n",
    "categorical_features = ['priority','customer_tier','category']\n",
    "oh = OneHotEncoder(sparse_output=False)\n",
    "print(categorical_features )"
   ]
  },
  {
   "cell_type": "code",
   "execution_count": 56,
   "metadata": {},
   "outputs": [],
   "source": [
    "from sklearn.preprocessing import OneHotEncoder\n",
    "\n",
    "categorical_features = ['priority', 'customer_tier', 'category']\n",
    "oh = OneHotEncoder(sparse_output=False)\n",
    "\n",
    "X_cat = oh.fit_transform(df[categorical_features])\n",
    "cat_feature_names = oh.get_feature_names_out(categorical_features)\n",
    "X_cat_df = pd.DataFrame(X_cat, columns=cat_feature_names)"
   ]
  }
 ],
 "metadata": {
  "kernelspec": {
   "display_name": "base",
   "language": "python",
   "name": "python3"
  },
  "language_info": {
   "codemirror_mode": {
    "name": "ipython",
    "version": 3
   },
   "file_extension": ".py",
   "mimetype": "text/x-python",
   "name": "python",
   "nbconvert_exporter": "python",
   "pygments_lexer": "ipython3",
   "version": "3.11.7"
  }
 },
 "nbformat": 4,
 "nbformat_minor": 2
}
